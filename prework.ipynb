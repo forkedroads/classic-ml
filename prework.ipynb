{
  "nbformat": 4,
  "nbformat_minor": 0,
  "metadata": {
    "kernelspec": {
      "display_name": "Python 3",
      "language": "python",
      "name": "python3"
    },
    "language_info": {
      "codemirror_mode": {
        "name": "ipython",
        "version": 3
      },
      "file_extension": ".py",
      "mimetype": "text/x-python",
      "name": "python",
      "nbconvert_exporter": "python",
      "pygments_lexer": "ipython3",
      "version": "3.7.6"
    },
    "colab": {
      "name": "prework.ipynb",
      "provenance": [],
      "include_colab_link": true
    }
  },
  "cells": [
    {
      "cell_type": "markdown",
      "metadata": {
        "id": "view-in-github",
        "colab_type": "text"
      },
      "source": [
        "<a href=\"https://colab.research.google.com/github/forkedroads/classic-ml/blob/master/prework.ipynb\" target=\"_parent\"><img src=\"https://colab.research.google.com/assets/colab-badge.svg\" alt=\"Open In Colab\"/></a>"
      ]
    },
    {
      "cell_type": "markdown",
      "metadata": {
        "id": "SOsJ0Rsg-6uG",
        "colab_type": "text"
      },
      "source": [
        "<div>\n",
        "<img src=\"https://edlitera-images.s3.us-east-1.amazonaws.com/edlitera_logo.png\" width=\"500\"/>\n",
        "</div>"
      ]
    },
    {
      "cell_type": "markdown",
      "metadata": {
        "id": "oE-yeDvk-6uI",
        "colab_type": "text"
      },
      "source": [
        "# Pre-work"
      ]
    },
    {
      "cell_type": "markdown",
      "metadata": {
        "id": "NmIO9_ag-6uI",
        "colab_type": "text"
      },
      "source": [
        "**NOTE:**"
      ]
    },
    {
      "cell_type": "markdown",
      "metadata": {
        "id": "6tveY9er-6uJ",
        "colab_type": "text"
      },
      "source": [
        "Please review the concepts below. Familiarity with them will be essential for your understanding of the material covered in the class. If you feel uncomfortable with the topics below, please cosider taking a _Python for Data Processing_ class."
      ]
    },
    {
      "cell_type": "markdown",
      "metadata": {
        "id": "-afh4Eg1-6uJ",
        "colab_type": "text"
      },
      "source": [
        "<br/>\n",
        "<br/>\n",
        "<br/>\n",
        "<br/>"
      ]
    },
    {
      "cell_type": "markdown",
      "metadata": {
        "id": "0jWX0RQN-6uK",
        "colab_type": "text"
      },
      "source": [
        "# Importing Modules"
      ]
    },
    {
      "cell_type": "code",
      "metadata": {
        "id": "h5kZCqHk-6uL",
        "colab_type": "code",
        "colab": {}
      },
      "source": [
        "import pandas as pd\n",
        "import numpy as np\n",
        "from pandas import Series, DataFrame"
      ],
      "execution_count": null,
      "outputs": []
    },
    {
      "cell_type": "markdown",
      "metadata": {
        "id": "gNvAKLMC-6uP",
        "colab_type": "text"
      },
      "source": [
        "<br/>\n",
        "<br/>\n",
        "<br/>\n",
        "<br/>"
      ]
    },
    {
      "cell_type": "markdown",
      "metadata": {
        "id": "aib2Keoq-6uQ",
        "colab_type": "text"
      },
      "source": [
        "# Series"
      ]
    },
    {
      "cell_type": "markdown",
      "metadata": {
        "id": "Wwxfk-Zt-6uQ",
        "colab_type": "text"
      },
      "source": [
        "### Create a Series from a list."
      ]
    },
    {
      "cell_type": "code",
      "metadata": {
        "id": "d6LuAnnB-6uQ",
        "colab_type": "code",
        "colab": {
          "base_uri": "https://localhost:8080/",
          "height": 255
        },
        "outputId": "b8a02c53-f8d8-45d2-9ee0-09cb02f28e92"
      },
      "source": [
        "s = Series([5,6,3,7,9,0])\n",
        "print('Series:')\n",
        "print(s)\n",
        "\n",
        "print('\\nSeries values:')\n",
        "print(s.values)\n",
        "\n",
        "print('\\nSeries index:')\n",
        "print(s.index)"
      ],
      "execution_count": null,
      "outputs": [
        {
          "output_type": "stream",
          "text": [
            "Series:\n",
            "0    5\n",
            "1    6\n",
            "2    3\n",
            "3    7\n",
            "4    9\n",
            "5    0\n",
            "dtype: int64\n",
            "\n",
            "Series values:\n",
            "[5 6 3 7 9 0]\n",
            "\n",
            "Series index:\n",
            "RangeIndex(start=0, stop=6, step=1)\n"
          ],
          "name": "stdout"
        }
      ]
    },
    {
      "cell_type": "markdown",
      "metadata": {
        "id": "8Dqz1pDw-6uU",
        "colab_type": "text"
      },
      "source": [
        "### Specify a custom index."
      ]
    },
    {
      "cell_type": "code",
      "metadata": {
        "id": "YM8unPYh-6uU",
        "colab_type": "code",
        "colab": {
          "base_uri": "https://localhost:8080/",
          "height": 153
        },
        "outputId": "3b3f043c-71dd-4438-8bfc-1e948768f5e3"
      },
      "source": [
        "s = Series([5,6,3,7,9,0], index=['a', 'b', 'c', 'd', 'e', 'f'])\n",
        "print('Series:')\n",
        "print(s)"
      ],
      "execution_count": null,
      "outputs": [
        {
          "output_type": "stream",
          "text": [
            "Series:\n",
            "a    5\n",
            "b    6\n",
            "c    3\n",
            "d    7\n",
            "e    9\n",
            "f    0\n",
            "dtype: int64\n"
          ],
          "name": "stdout"
        }
      ]
    },
    {
      "cell_type": "markdown",
      "metadata": {
        "id": "rgF_bwna-6uW",
        "colab_type": "text"
      },
      "source": [
        "### Use a custom index when accessing values inside the series."
      ]
    },
    {
      "cell_type": "code",
      "metadata": {
        "id": "PdHmhIqG-6uX",
        "colab_type": "code",
        "colab": {
          "base_uri": "https://localhost:8080/",
          "height": 34
        },
        "outputId": "a8740d4f-105c-4c24-ddfe-2065c61035f5"
      },
      "source": [
        "print(s['a'])"
      ],
      "execution_count": null,
      "outputs": [
        {
          "output_type": "stream",
          "text": [
            "5\n"
          ],
          "name": "stdout"
        }
      ]
    },
    {
      "cell_type": "markdown",
      "metadata": {
        "id": "oidjaMbW-6uZ",
        "colab_type": "text"
      },
      "source": [
        "### Labels inside an index don't have to be unique."
      ]
    },
    {
      "cell_type": "code",
      "metadata": {
        "id": "OLXXmF-o-6ua",
        "colab_type": "code",
        "colab": {
          "base_uri": "https://localhost:8080/",
          "height": 68
        },
        "outputId": "d9d6667e-cfb4-49af-9821-e14739f43677"
      },
      "source": [
        "s = Series([5,6,3,7,9,0], index=['a', 'a', 'c', 'd', 'e', 'f'])\n",
        "print(s['a'])"
      ],
      "execution_count": null,
      "outputs": [
        {
          "output_type": "stream",
          "text": [
            "a    5\n",
            "a    6\n",
            "dtype: int64\n"
          ],
          "name": "stdout"
        }
      ]
    },
    {
      "cell_type": "markdown",
      "metadata": {
        "id": "tHqBKb90-6ud",
        "colab_type": "text"
      },
      "source": [
        "### Values inside the series are stored in a NumPy ndarray."
      ]
    },
    {
      "cell_type": "code",
      "metadata": {
        "id": "OSMl6b-z-6ud",
        "colab_type": "code",
        "colab": {
          "base_uri": "https://localhost:8080/",
          "height": 34
        },
        "outputId": "1c448d6d-f36b-4cb1-fe42-18833efd8ec0"
      },
      "source": [
        "s = Series([5,6,3,7,9,0])\n",
        "type(s.values)"
      ],
      "execution_count": null,
      "outputs": [
        {
          "output_type": "execute_result",
          "data": {
            "text/plain": [
              "numpy.ndarray"
            ]
          },
          "metadata": {
            "tags": []
          },
          "execution_count": 6
        }
      ]
    },
    {
      "cell_type": "markdown",
      "metadata": {
        "id": "0Uoz3yXF-6ug",
        "colab_type": "text"
      },
      "source": [
        "### The index of the series is stored in a special data structure called Index."
      ]
    },
    {
      "cell_type": "code",
      "metadata": {
        "id": "kqLevCrz-6ug",
        "colab_type": "code",
        "colab": {
          "base_uri": "https://localhost:8080/",
          "height": 51
        },
        "outputId": "2e5d9894-34d2-4b95-fe48-f21e2bec307d"
      },
      "source": [
        "s = Series([5,6,3,7,9,0], index=['a', 'b', 'c', 'd', 'e', 'f'])\n",
        "print(s.index)\n",
        "type(s.index)"
      ],
      "execution_count": null,
      "outputs": [
        {
          "output_type": "stream",
          "text": [
            "Index(['a', 'b', 'c', 'd', 'e', 'f'], dtype='object')\n"
          ],
          "name": "stdout"
        },
        {
          "output_type": "execute_result",
          "data": {
            "text/plain": [
              "pandas.core.indexes.base.Index"
            ]
          },
          "metadata": {
            "tags": []
          },
          "execution_count": 8
        }
      ]
    },
    {
      "cell_type": "markdown",
      "metadata": {
        "id": "YTsVFQiV-6uk",
        "colab_type": "text"
      },
      "source": [
        "### Create a series from a dictionary."
      ]
    },
    {
      "cell_type": "markdown",
      "metadata": {
        "id": "K8fNGsAh-6uk",
        "colab_type": "text"
      },
      "source": [
        "The dictionary keys become the index values and the dictionary values become the series values."
      ]
    },
    {
      "cell_type": "code",
      "metadata": {
        "id": "aQ8LYGvh-6ul",
        "colab_type": "code",
        "colab": {
          "base_uri": "https://localhost:8080/",
          "height": 85
        },
        "outputId": "ca0e709f-c3b2-40a1-86b4-dfe593de9db2"
      },
      "source": [
        "s = Series({'a': 1, 'b': 2, 'c': 3})\n",
        "print(s)"
      ],
      "execution_count": null,
      "outputs": [
        {
          "output_type": "stream",
          "text": [
            "a    1\n",
            "b    2\n",
            "c    3\n",
            "dtype: int64\n"
          ],
          "name": "stdout"
        }
      ]
    },
    {
      "cell_type": "markdown",
      "metadata": {
        "id": "d_GzloDO-6un",
        "colab_type": "text"
      },
      "source": [
        "Fun fact: operators are applied element-wise. So, >, <, == etc. are applied to each element and then a series containing boolean values is returned."
      ]
    },
    {
      "cell_type": "code",
      "metadata": {
        "id": "RGQoMYbd-6up",
        "colab_type": "code",
        "colab": {
          "base_uri": "https://localhost:8080/",
          "height": 136
        },
        "outputId": "1bdf0356-a6c9-49fa-c6ef-57b95f8eaacb"
      },
      "source": [
        "s = Series([5,6,3,7,9,0])\n",
        "s > 3"
      ],
      "execution_count": null,
      "outputs": [
        {
          "output_type": "execute_result",
          "data": {
            "text/plain": [
              "0     True\n",
              "1     True\n",
              "2    False\n",
              "3     True\n",
              "4     True\n",
              "5    False\n",
              "dtype: bool"
            ]
          },
          "metadata": {
            "tags": []
          },
          "execution_count": 10
        }
      ]
    },
    {
      "cell_type": "markdown",
      "metadata": {
        "id": "Ijd264Zz-6ur",
        "colab_type": "text"
      },
      "source": [
        "### Filter elements in a series."
      ]
    },
    {
      "cell_type": "markdown",
      "metadata": {
        "id": "JWJO3RJF-6us",
        "colab_type": "text"
      },
      "source": [
        "We could do this with for loops, but it would be order of magnitutes slower. ndarrays are optimized for speed."
      ]
    },
    {
      "cell_type": "code",
      "metadata": {
        "id": "zXHlSPGO-6us",
        "colab_type": "code",
        "colab": {
          "base_uri": "https://localhost:8080/",
          "height": 102
        },
        "outputId": "ef22c860-1ce3-4be1-ff19-aab6c6d7f848"
      },
      "source": [
        "s = Series([5,6,3,7,9,0])\n",
        "s[s > 3]"
      ],
      "execution_count": null,
      "outputs": [
        {
          "output_type": "execute_result",
          "data": {
            "text/plain": [
              "0    5\n",
              "1    6\n",
              "3    7\n",
              "4    9\n",
              "dtype: int64"
            ]
          },
          "metadata": {
            "tags": []
          },
          "execution_count": 11
        }
      ]
    },
    {
      "cell_type": "markdown",
      "metadata": {
        "id": "rl4youZW-6uv",
        "colab_type": "text"
      },
      "source": [
        "### Add, multiply, subtract etc. two series."
      ]
    },
    {
      "cell_type": "markdown",
      "metadata": {
        "id": "qVzKiLs--6uv",
        "colab_type": "text"
      },
      "source": [
        "NOTE: the operation must make sense."
      ]
    },
    {
      "cell_type": "code",
      "metadata": {
        "id": "-BC42gi5-6uw",
        "colab_type": "code",
        "colab": {
          "base_uri": "https://localhost:8080/",
          "height": 119
        },
        "outputId": "b3b77d6f-f676-4ec9-e659-b96abd7f3d90"
      },
      "source": [
        "s1 = Series([5,6,3,0,4])\n",
        "s2 = Series([1,2,1,1])\n",
        "s2 - s1 # s1 has more values than s2 - notice the NaN at the end"
      ],
      "execution_count": null,
      "outputs": [
        {
          "output_type": "execute_result",
          "data": {
            "text/plain": [
              "0   -4.0\n",
              "1   -4.0\n",
              "2   -2.0\n",
              "3    1.0\n",
              "4    NaN\n",
              "dtype: float64"
            ]
          },
          "metadata": {
            "tags": []
          },
          "execution_count": 16
        }
      ]
    },
    {
      "cell_type": "markdown",
      "metadata": {
        "id": "Ub8SOGpl-6uy",
        "colab_type": "text"
      },
      "source": [
        "NOTE: series items are matched by index labels!"
      ]
    },
    {
      "cell_type": "code",
      "metadata": {
        "id": "AmrpqbJa-6uz",
        "colab_type": "code",
        "colab": {
          "base_uri": "https://localhost:8080/",
          "height": 170
        },
        "outputId": "0b9c5d5d-bd27-4920-d5b3-7b329517100f"
      },
      "source": [
        "s1 = Series([5,6,3,0,4], index=[0,0,0,0,0])\n",
        "s2 = Series([1,2,3,4], index=[0,1,2,3])\n",
        "s1 - s2 # the unmatched values are added at the end and marked as NaN"
      ],
      "execution_count": null,
      "outputs": [
        {
          "output_type": "execute_result",
          "data": {
            "text/plain": [
              "0    4.0\n",
              "0    5.0\n",
              "0    2.0\n",
              "0   -1.0\n",
              "0    3.0\n",
              "1    NaN\n",
              "2    NaN\n",
              "3    NaN\n",
              "dtype: float64"
            ]
          },
          "metadata": {
            "tags": []
          },
          "execution_count": 18
        }
      ]
    },
    {
      "cell_type": "markdown",
      "metadata": {
        "id": "f6jAWDE--6u1",
        "colab_type": "text"
      },
      "source": [
        "<br/>\n",
        "<br/>\n",
        "<br/>\n",
        "<br/>"
      ]
    },
    {
      "cell_type": "markdown",
      "metadata": {
        "id": "eM1rv55r-6u1",
        "colab_type": "text"
      },
      "source": [
        "# DataFrames"
      ]
    },
    {
      "cell_type": "markdown",
      "metadata": {
        "id": "7gJkjD3s-6u2",
        "colab_type": "text"
      },
      "source": [
        "### Create a dataframe from a two-dimensional ndarray."
      ]
    },
    {
      "cell_type": "markdown",
      "metadata": {
        "id": "FUyUnfxJ-6u2",
        "colab_type": "text"
      },
      "source": [
        "Here we generate random numbers (from 0 to 100) and store them in an ndarray of size 5 x 3 (5 rows, 3 columns). We can use this ndarray to create a DataFrame."
      ]
    },
    {
      "cell_type": "code",
      "metadata": {
        "id": "RwxySN2U-6u3",
        "colab_type": "code",
        "colab": {
          "base_uri": "https://localhost:8080/",
          "height": 204
        },
        "outputId": "ecd41375-3287-4955-cf69-c5813701c344"
      },
      "source": [
        "import numpy as np\n",
        "\n",
        "df = DataFrame(np.random.randint(0,100,size=(5, 3)))\n",
        "df # notice how the index and the columns are autopopulated"
      ],
      "execution_count": null,
      "outputs": [
        {
          "output_type": "execute_result",
          "data": {
            "text/html": [
              "<div>\n",
              "<style scoped>\n",
              "    .dataframe tbody tr th:only-of-type {\n",
              "        vertical-align: middle;\n",
              "    }\n",
              "\n",
              "    .dataframe tbody tr th {\n",
              "        vertical-align: top;\n",
              "    }\n",
              "\n",
              "    .dataframe thead th {\n",
              "        text-align: right;\n",
              "    }\n",
              "</style>\n",
              "<table border=\"1\" class=\"dataframe\">\n",
              "  <thead>\n",
              "    <tr style=\"text-align: right;\">\n",
              "      <th></th>\n",
              "      <th>0</th>\n",
              "      <th>1</th>\n",
              "      <th>2</th>\n",
              "    </tr>\n",
              "  </thead>\n",
              "  <tbody>\n",
              "    <tr>\n",
              "      <th>0</th>\n",
              "      <td>41</td>\n",
              "      <td>54</td>\n",
              "      <td>90</td>\n",
              "    </tr>\n",
              "    <tr>\n",
              "      <th>1</th>\n",
              "      <td>56</td>\n",
              "      <td>83</td>\n",
              "      <td>55</td>\n",
              "    </tr>\n",
              "    <tr>\n",
              "      <th>2</th>\n",
              "      <td>36</td>\n",
              "      <td>51</td>\n",
              "      <td>51</td>\n",
              "    </tr>\n",
              "    <tr>\n",
              "      <th>3</th>\n",
              "      <td>30</td>\n",
              "      <td>52</td>\n",
              "      <td>86</td>\n",
              "    </tr>\n",
              "    <tr>\n",
              "      <th>4</th>\n",
              "      <td>72</td>\n",
              "      <td>11</td>\n",
              "      <td>11</td>\n",
              "    </tr>\n",
              "  </tbody>\n",
              "</table>\n",
              "</div>"
            ],
            "text/plain": [
              "    0   1   2\n",
              "0  41  54  90\n",
              "1  56  83  55\n",
              "2  36  51  51\n",
              "3  30  52  86\n",
              "4  72  11  11"
            ]
          },
          "metadata": {
            "tags": []
          },
          "execution_count": 19
        }
      ]
    },
    {
      "cell_type": "markdown",
      "metadata": {
        "id": "k8b38L6m-6u6",
        "colab_type": "text"
      },
      "source": [
        "### Specify custom index labels / column names."
      ]
    },
    {
      "cell_type": "code",
      "metadata": {
        "id": "7PUC7OFx-6u6",
        "colab_type": "code",
        "colab": {
          "base_uri": "https://localhost:8080/",
          "height": 204
        },
        "outputId": "dc7bd34c-40e1-4ae6-ea93-c71dec24dea4"
      },
      "source": [
        "df = DataFrame(\n",
        "    np.random.randint(0,1000,size=(5, 3)), \n",
        "    index=['a', 'b', 'c', 'd', 'e'], \n",
        "    columns=['Col1', 'Col2', 'Col3']\n",
        ")\n",
        "\n",
        "df"
      ],
      "execution_count": null,
      "outputs": [
        {
          "output_type": "execute_result",
          "data": {
            "text/html": [
              "<div>\n",
              "<style scoped>\n",
              "    .dataframe tbody tr th:only-of-type {\n",
              "        vertical-align: middle;\n",
              "    }\n",
              "\n",
              "    .dataframe tbody tr th {\n",
              "        vertical-align: top;\n",
              "    }\n",
              "\n",
              "    .dataframe thead th {\n",
              "        text-align: right;\n",
              "    }\n",
              "</style>\n",
              "<table border=\"1\" class=\"dataframe\">\n",
              "  <thead>\n",
              "    <tr style=\"text-align: right;\">\n",
              "      <th></th>\n",
              "      <th>Col1</th>\n",
              "      <th>Col2</th>\n",
              "      <th>Col3</th>\n",
              "    </tr>\n",
              "  </thead>\n",
              "  <tbody>\n",
              "    <tr>\n",
              "      <th>a</th>\n",
              "      <td>110</td>\n",
              "      <td>395</td>\n",
              "      <td>234</td>\n",
              "    </tr>\n",
              "    <tr>\n",
              "      <th>b</th>\n",
              "      <td>10</td>\n",
              "      <td>749</td>\n",
              "      <td>12</td>\n",
              "    </tr>\n",
              "    <tr>\n",
              "      <th>c</th>\n",
              "      <td>590</td>\n",
              "      <td>64</td>\n",
              "      <td>277</td>\n",
              "    </tr>\n",
              "    <tr>\n",
              "      <th>d</th>\n",
              "      <td>670</td>\n",
              "      <td>416</td>\n",
              "      <td>896</td>\n",
              "    </tr>\n",
              "    <tr>\n",
              "      <th>e</th>\n",
              "      <td>689</td>\n",
              "      <td>377</td>\n",
              "      <td>617</td>\n",
              "    </tr>\n",
              "  </tbody>\n",
              "</table>\n",
              "</div>"
            ],
            "text/plain": [
              "   Col1  Col2  Col3\n",
              "a   110   395   234\n",
              "b    10   749    12\n",
              "c   590    64   277\n",
              "d   670   416   896\n",
              "e   689   377   617"
            ]
          },
          "metadata": {
            "tags": []
          },
          "execution_count": 21
        }
      ]
    },
    {
      "cell_type": "markdown",
      "metadata": {
        "id": "QY0KEFMG-6u9",
        "colab_type": "text"
      },
      "source": [
        "### Create a DataFrame by reading in a CSV file."
      ]
    },
    {
      "cell_type": "markdown",
      "metadata": {
        "id": "BfF925KG-6u9",
        "colab_type": "text"
      },
      "source": [
        "Can also read Excel files, fixed-width column files etc."
      ]
    },
    {
      "cell_type": "code",
      "metadata": {
        "id": "N2Ak634J-6u9",
        "colab_type": "code",
        "colab": {}
      },
      "source": [
        "df = pd.read_csv(\"https://edlitera-datasets.s3.us-east-1.amazonaws.com/bookstore_data.csv\")"
      ],
      "execution_count": null,
      "outputs": []
    },
    {
      "cell_type": "markdown",
      "metadata": {
        "id": "kdL8se9n-6u_",
        "colab_type": "text"
      },
      "source": [
        "### The row index of a DataFrame is stored in an Index object."
      ]
    },
    {
      "cell_type": "code",
      "metadata": {
        "id": "GL-m2NFWBETX",
        "colab_type": "code",
        "colab": {
          "base_uri": "https://localhost:8080/",
          "height": 34
        },
        "outputId": "f00308b8-cf95-4a5d-af93-45b078313684"
      },
      "source": [
        "df.columns"
      ],
      "execution_count": null,
      "outputs": [
        {
          "output_type": "execute_result",
          "data": {
            "text/plain": [
              "Index(['date', 'user_id', 'product_name', 'quantity', 'price_per_unit'], dtype='object')"
            ]
          },
          "metadata": {
            "tags": []
          },
          "execution_count": 26
        }
      ]
    },
    {
      "cell_type": "code",
      "metadata": {
        "id": "crko241n-6vA",
        "colab_type": "code",
        "colab": {
          "base_uri": "https://localhost:8080/",
          "height": 34
        },
        "outputId": "c3fa61f5-3716-4cb5-dfcb-3f4ace945dcd"
      },
      "source": [
        "type(df.index)"
      ],
      "execution_count": null,
      "outputs": [
        {
          "output_type": "execute_result",
          "data": {
            "text/plain": [
              "pandas.core.indexes.range.RangeIndex"
            ]
          },
          "metadata": {
            "tags": []
          },
          "execution_count": 23
        }
      ]
    },
    {
      "cell_type": "markdown",
      "metadata": {
        "id": "HlvBTEkr-6vD",
        "colab_type": "text"
      },
      "source": [
        "### The columns of a DataFrame are also stored in an Index object."
      ]
    },
    {
      "cell_type": "code",
      "metadata": {
        "id": "mV_dEyfa-6vD",
        "colab_type": "code",
        "colab": {
          "base_uri": "https://localhost:8080/",
          "height": 34
        },
        "outputId": "3f4d5fdc-00fe-4444-83c5-68a9e305d8fd"
      },
      "source": [
        "type(df.columns)"
      ],
      "execution_count": null,
      "outputs": [
        {
          "output_type": "execute_result",
          "data": {
            "text/plain": [
              "pandas.core.indexes.base.Index"
            ]
          },
          "metadata": {
            "tags": []
          },
          "execution_count": 24
        }
      ]
    },
    {
      "cell_type": "markdown",
      "metadata": {
        "id": "mfQFlEsw-6vF",
        "colab_type": "text"
      },
      "source": [
        "### The values of a DataFrame are stored in a two dimensional ndarray."
      ]
    },
    {
      "cell_type": "code",
      "metadata": {
        "scrolled": true,
        "id": "NaIyPkmz-6vF",
        "colab_type": "code",
        "colab": {
          "base_uri": "https://localhost:8080/",
          "height": 153
        },
        "outputId": "bf626dfc-218c-4506-b732-a52b3be534c5"
      },
      "source": [
        "df.values"
      ],
      "execution_count": null,
      "outputs": [
        {
          "output_type": "execute_result",
          "data": {
            "text/plain": [
              "array([['2016/09/13', 147520, 'Catch 22', 1, 35],\n",
              "       ['2016/09/16', 147568, 'The Lord of the Rings', 1, 27],\n",
              "       ['2016/09/16', 150011, 'The Catcher In The Rye', 1, 11],\n",
              "       ...,\n",
              "       ['2016/10/15', 149011, 'On the Road', 1, 24],\n",
              "       ['2016/10/15', 147415, 'Brave New World', 2, 17],\n",
              "       ['2016/10/15', 149501, 'The Lord of the Rings', 1, 27]],\n",
              "      dtype=object)"
            ]
          },
          "metadata": {
            "tags": []
          },
          "execution_count": 27
        }
      ]
    },
    {
      "cell_type": "markdown",
      "metadata": {
        "id": "MlYE30P4-6vH",
        "colab_type": "text"
      },
      "source": [
        "### Display the first few rows using the `head()` method."
      ]
    },
    {
      "cell_type": "markdown",
      "metadata": {
        "id": "F80v6bdm-6vI",
        "colab_type": "text"
      },
      "source": [
        "Optional: specify the number of rows that you want to see."
      ]
    },
    {
      "cell_type": "code",
      "metadata": {
        "id": "zvdre3ce-6vI",
        "colab_type": "code",
        "colab": {
          "base_uri": "https://localhost:8080/",
          "height": 142
        },
        "outputId": "f78aaa78-ab37-4d9b-e171-0c97a8a9b95d"
      },
      "source": [
        "df.head(3) "
      ],
      "execution_count": null,
      "outputs": [
        {
          "output_type": "execute_result",
          "data": {
            "text/html": [
              "<div>\n",
              "<style scoped>\n",
              "    .dataframe tbody tr th:only-of-type {\n",
              "        vertical-align: middle;\n",
              "    }\n",
              "\n",
              "    .dataframe tbody tr th {\n",
              "        vertical-align: top;\n",
              "    }\n",
              "\n",
              "    .dataframe thead th {\n",
              "        text-align: right;\n",
              "    }\n",
              "</style>\n",
              "<table border=\"1\" class=\"dataframe\">\n",
              "  <thead>\n",
              "    <tr style=\"text-align: right;\">\n",
              "      <th></th>\n",
              "      <th>date</th>\n",
              "      <th>user_id</th>\n",
              "      <th>product_name</th>\n",
              "      <th>quantity</th>\n",
              "      <th>price_per_unit</th>\n",
              "    </tr>\n",
              "  </thead>\n",
              "  <tbody>\n",
              "    <tr>\n",
              "      <th>0</th>\n",
              "      <td>2016/09/13</td>\n",
              "      <td>147520</td>\n",
              "      <td>Catch 22</td>\n",
              "      <td>1</td>\n",
              "      <td>35</td>\n",
              "    </tr>\n",
              "    <tr>\n",
              "      <th>1</th>\n",
              "      <td>2016/09/16</td>\n",
              "      <td>147568</td>\n",
              "      <td>The Lord of the Rings</td>\n",
              "      <td>1</td>\n",
              "      <td>27</td>\n",
              "    </tr>\n",
              "    <tr>\n",
              "      <th>2</th>\n",
              "      <td>2016/09/16</td>\n",
              "      <td>150011</td>\n",
              "      <td>The Catcher In The Rye</td>\n",
              "      <td>1</td>\n",
              "      <td>11</td>\n",
              "    </tr>\n",
              "  </tbody>\n",
              "</table>\n",
              "</div>"
            ],
            "text/plain": [
              "         date  user_id            product_name  quantity  price_per_unit\n",
              "0  2016/09/13   147520                Catch 22         1              35\n",
              "1  2016/09/16   147568   The Lord of the Rings         1              27\n",
              "2  2016/09/16   150011  The Catcher In The Rye         1              11"
            ]
          },
          "metadata": {
            "tags": []
          },
          "execution_count": 28
        }
      ]
    },
    {
      "cell_type": "markdown",
      "metadata": {
        "id": "nXrNk7M6-6vK",
        "colab_type": "text"
      },
      "source": [
        "### By default, head() shows the first 5 rows."
      ]
    },
    {
      "cell_type": "code",
      "metadata": {
        "id": "VHxIM3v5-6vL",
        "colab_type": "code",
        "colab": {
          "base_uri": "https://localhost:8080/",
          "height": 204
        },
        "outputId": "43c2d84d-e8e0-43d3-9f92-7950fab6ac70"
      },
      "source": [
        "df.head()"
      ],
      "execution_count": null,
      "outputs": [
        {
          "output_type": "execute_result",
          "data": {
            "text/html": [
              "<div>\n",
              "<style scoped>\n",
              "    .dataframe tbody tr th:only-of-type {\n",
              "        vertical-align: middle;\n",
              "    }\n",
              "\n",
              "    .dataframe tbody tr th {\n",
              "        vertical-align: top;\n",
              "    }\n",
              "\n",
              "    .dataframe thead th {\n",
              "        text-align: right;\n",
              "    }\n",
              "</style>\n",
              "<table border=\"1\" class=\"dataframe\">\n",
              "  <thead>\n",
              "    <tr style=\"text-align: right;\">\n",
              "      <th></th>\n",
              "      <th>date</th>\n",
              "      <th>user_id</th>\n",
              "      <th>product_name</th>\n",
              "      <th>quantity</th>\n",
              "      <th>price_per_unit</th>\n",
              "    </tr>\n",
              "  </thead>\n",
              "  <tbody>\n",
              "    <tr>\n",
              "      <th>0</th>\n",
              "      <td>2016/09/13</td>\n",
              "      <td>147520</td>\n",
              "      <td>Catch 22</td>\n",
              "      <td>1</td>\n",
              "      <td>35</td>\n",
              "    </tr>\n",
              "    <tr>\n",
              "      <th>1</th>\n",
              "      <td>2016/09/16</td>\n",
              "      <td>147568</td>\n",
              "      <td>The Lord of the Rings</td>\n",
              "      <td>1</td>\n",
              "      <td>27</td>\n",
              "    </tr>\n",
              "    <tr>\n",
              "      <th>2</th>\n",
              "      <td>2016/09/16</td>\n",
              "      <td>150011</td>\n",
              "      <td>The Catcher In The Rye</td>\n",
              "      <td>1</td>\n",
              "      <td>11</td>\n",
              "    </tr>\n",
              "    <tr>\n",
              "      <th>3</th>\n",
              "      <td>2016/09/18</td>\n",
              "      <td>148377</td>\n",
              "      <td>Catch 22</td>\n",
              "      <td>1</td>\n",
              "      <td>35</td>\n",
              "    </tr>\n",
              "    <tr>\n",
              "      <th>4</th>\n",
              "      <td>2016/09/19</td>\n",
              "      <td>150665</td>\n",
              "      <td>On the Road</td>\n",
              "      <td>1</td>\n",
              "      <td>24</td>\n",
              "    </tr>\n",
              "  </tbody>\n",
              "</table>\n",
              "</div>"
            ],
            "text/plain": [
              "         date  user_id            product_name  quantity  price_per_unit\n",
              "0  2016/09/13   147520                Catch 22         1              35\n",
              "1  2016/09/16   147568   The Lord of the Rings         1              27\n",
              "2  2016/09/16   150011  The Catcher In The Rye         1              11\n",
              "3  2016/09/18   148377                Catch 22         1              35\n",
              "4  2016/09/19   150665             On the Road         1              24"
            ]
          },
          "metadata": {
            "tags": []
          },
          "execution_count": 29
        }
      ]
    },
    {
      "cell_type": "markdown",
      "metadata": {
        "id": "_kdD7E4r-6vN",
        "colab_type": "text"
      },
      "source": [
        "### Display the last 5 rows of a DataFrame."
      ]
    },
    {
      "cell_type": "code",
      "metadata": {
        "id": "_o9ucvbb-6vO",
        "colab_type": "code",
        "colab": {
          "base_uri": "https://localhost:8080/",
          "height": 204
        },
        "outputId": "87d5af67-8965-44e8-ce4a-f08ef479f75e"
      },
      "source": [
        "df.tail()"
      ],
      "execution_count": null,
      "outputs": [
        {
          "output_type": "execute_result",
          "data": {
            "text/html": [
              "<div>\n",
              "<style scoped>\n",
              "    .dataframe tbody tr th:only-of-type {\n",
              "        vertical-align: middle;\n",
              "    }\n",
              "\n",
              "    .dataframe tbody tr th {\n",
              "        vertical-align: top;\n",
              "    }\n",
              "\n",
              "    .dataframe thead th {\n",
              "        text-align: right;\n",
              "    }\n",
              "</style>\n",
              "<table border=\"1\" class=\"dataframe\">\n",
              "  <thead>\n",
              "    <tr style=\"text-align: right;\">\n",
              "      <th></th>\n",
              "      <th>date</th>\n",
              "      <th>user_id</th>\n",
              "      <th>product_name</th>\n",
              "      <th>quantity</th>\n",
              "      <th>price_per_unit</th>\n",
              "    </tr>\n",
              "  </thead>\n",
              "  <tbody>\n",
              "    <tr>\n",
              "      <th>995</th>\n",
              "      <td>2016/10/15</td>\n",
              "      <td>151781</td>\n",
              "      <td>Nineteen Eighty Four</td>\n",
              "      <td>1</td>\n",
              "      <td>20</td>\n",
              "    </tr>\n",
              "    <tr>\n",
              "      <th>996</th>\n",
              "      <td>2016/10/15</td>\n",
              "      <td>148380</td>\n",
              "      <td>The Lord of the Rings</td>\n",
              "      <td>2</td>\n",
              "      <td>27</td>\n",
              "    </tr>\n",
              "    <tr>\n",
              "      <th>997</th>\n",
              "      <td>2016/10/15</td>\n",
              "      <td>149011</td>\n",
              "      <td>On the Road</td>\n",
              "      <td>1</td>\n",
              "      <td>24</td>\n",
              "    </tr>\n",
              "    <tr>\n",
              "      <th>998</th>\n",
              "      <td>2016/10/15</td>\n",
              "      <td>147415</td>\n",
              "      <td>Brave New World</td>\n",
              "      <td>2</td>\n",
              "      <td>17</td>\n",
              "    </tr>\n",
              "    <tr>\n",
              "      <th>999</th>\n",
              "      <td>2016/10/15</td>\n",
              "      <td>149501</td>\n",
              "      <td>The Lord of the Rings</td>\n",
              "      <td>1</td>\n",
              "      <td>27</td>\n",
              "    </tr>\n",
              "  </tbody>\n",
              "</table>\n",
              "</div>"
            ],
            "text/plain": [
              "           date  user_id           product_name  quantity  price_per_unit\n",
              "995  2016/10/15   151781   Nineteen Eighty Four         1              20\n",
              "996  2016/10/15   148380  The Lord of the Rings         2              27\n",
              "997  2016/10/15   149011            On the Road         1              24\n",
              "998  2016/10/15   147415        Brave New World         2              17\n",
              "999  2016/10/15   149501  The Lord of the Rings         1              27"
            ]
          },
          "metadata": {
            "tags": []
          },
          "execution_count": 30
        }
      ]
    },
    {
      "cell_type": "markdown",
      "metadata": {
        "id": "9xoJt0el-6vQ",
        "colab_type": "text"
      },
      "source": [
        "### List the columns of a DataFrame."
      ]
    },
    {
      "cell_type": "code",
      "metadata": {
        "id": "qUE7Si1J-6vQ",
        "colab_type": "code",
        "colab": {
          "base_uri": "https://localhost:8080/",
          "height": 34
        },
        "outputId": "b7e60864-5146-48e4-cfef-1b534e6529d7"
      },
      "source": [
        "df.columns"
      ],
      "execution_count": null,
      "outputs": [
        {
          "output_type": "execute_result",
          "data": {
            "text/plain": [
              "Index(['date', 'user_id', 'product_name', 'quantity', 'price_per_unit'], dtype='object')"
            ]
          },
          "metadata": {
            "tags": []
          },
          "execution_count": 31
        }
      ]
    },
    {
      "cell_type": "markdown",
      "metadata": {
        "id": "b9190Xok-6vS",
        "colab_type": "text"
      },
      "source": [
        "### Display the row index of a DataFrame."
      ]
    },
    {
      "cell_type": "markdown",
      "metadata": {
        "id": "O0qWCd1X-6vS",
        "colab_type": "text"
      },
      "source": [
        "In this case, we didn't specify a custom index, so a RangeIndex was automatically created for us (RangeIndex is a type of Index)."
      ]
    },
    {
      "cell_type": "code",
      "metadata": {
        "scrolled": true,
        "id": "x8uRR2ca-6vT",
        "colab_type": "code",
        "colab": {
          "base_uri": "https://localhost:8080/",
          "height": 34
        },
        "outputId": "d4e7dda1-f825-4138-9841-c7998c65356f"
      },
      "source": [
        "df.index"
      ],
      "execution_count": null,
      "outputs": [
        {
          "output_type": "execute_result",
          "data": {
            "text/plain": [
              "RangeIndex(start=0, stop=1000, step=1)"
            ]
          },
          "metadata": {
            "tags": []
          },
          "execution_count": 32
        }
      ]
    },
    {
      "cell_type": "markdown",
      "metadata": {
        "id": "7KnLa6wm-6vV",
        "colab_type": "text"
      },
      "source": [
        "### 'Extract' a specific column from a dataframe."
      ]
    },
    {
      "cell_type": "markdown",
      "metadata": {
        "id": "Xs6PHKDq-6vW",
        "colab_type": "text"
      },
      "source": [
        "Doing this will give us a Series!"
      ]
    },
    {
      "cell_type": "code",
      "metadata": {
        "id": "BrwwRYha-6vW",
        "colab_type": "code",
        "colab": {
          "base_uri": "https://localhost:8080/",
          "height": 221
        },
        "outputId": "27e0f167-c84e-4b0a-8fba-e72726bc3a85"
      },
      "source": [
        "df['date']"
      ],
      "execution_count": null,
      "outputs": [
        {
          "output_type": "execute_result",
          "data": {
            "text/plain": [
              "0      2016/09/13\n",
              "1      2016/09/16\n",
              "2      2016/09/16\n",
              "3      2016/09/18\n",
              "4      2016/09/19\n",
              "          ...    \n",
              "995    2016/10/15\n",
              "996    2016/10/15\n",
              "997    2016/10/15\n",
              "998    2016/10/15\n",
              "999    2016/10/15\n",
              "Name: date, Length: 1000, dtype: object"
            ]
          },
          "metadata": {
            "tags": []
          },
          "execution_count": 33
        }
      ]
    },
    {
      "cell_type": "markdown",
      "metadata": {
        "id": "_5u_69IW-6vY",
        "colab_type": "text"
      },
      "source": [
        "### Access more than one column actually."
      ]
    },
    {
      "cell_type": "code",
      "metadata": {
        "id": "CZn3HN1H-6vY",
        "colab_type": "code",
        "colab": {
          "base_uri": "https://localhost:8080/",
          "height": 419
        },
        "outputId": "17fd86cc-6297-4cb5-d399-d990ec7d4ded"
      },
      "source": [
        "df[['product_name', 'quantity']]"
      ],
      "execution_count": null,
      "outputs": [
        {
          "output_type": "execute_result",
          "data": {
            "text/html": [
              "<div>\n",
              "<style scoped>\n",
              "    .dataframe tbody tr th:only-of-type {\n",
              "        vertical-align: middle;\n",
              "    }\n",
              "\n",
              "    .dataframe tbody tr th {\n",
              "        vertical-align: top;\n",
              "    }\n",
              "\n",
              "    .dataframe thead th {\n",
              "        text-align: right;\n",
              "    }\n",
              "</style>\n",
              "<table border=\"1\" class=\"dataframe\">\n",
              "  <thead>\n",
              "    <tr style=\"text-align: right;\">\n",
              "      <th></th>\n",
              "      <th>product_name</th>\n",
              "      <th>quantity</th>\n",
              "    </tr>\n",
              "  </thead>\n",
              "  <tbody>\n",
              "    <tr>\n",
              "      <th>0</th>\n",
              "      <td>Catch 22</td>\n",
              "      <td>1</td>\n",
              "    </tr>\n",
              "    <tr>\n",
              "      <th>1</th>\n",
              "      <td>The Lord of the Rings</td>\n",
              "      <td>1</td>\n",
              "    </tr>\n",
              "    <tr>\n",
              "      <th>2</th>\n",
              "      <td>The Catcher In The Rye</td>\n",
              "      <td>1</td>\n",
              "    </tr>\n",
              "    <tr>\n",
              "      <th>3</th>\n",
              "      <td>Catch 22</td>\n",
              "      <td>1</td>\n",
              "    </tr>\n",
              "    <tr>\n",
              "      <th>4</th>\n",
              "      <td>On the Road</td>\n",
              "      <td>1</td>\n",
              "    </tr>\n",
              "    <tr>\n",
              "      <th>...</th>\n",
              "      <td>...</td>\n",
              "      <td>...</td>\n",
              "    </tr>\n",
              "    <tr>\n",
              "      <th>995</th>\n",
              "      <td>Nineteen Eighty Four</td>\n",
              "      <td>1</td>\n",
              "    </tr>\n",
              "    <tr>\n",
              "      <th>996</th>\n",
              "      <td>The Lord of the Rings</td>\n",
              "      <td>2</td>\n",
              "    </tr>\n",
              "    <tr>\n",
              "      <th>997</th>\n",
              "      <td>On the Road</td>\n",
              "      <td>1</td>\n",
              "    </tr>\n",
              "    <tr>\n",
              "      <th>998</th>\n",
              "      <td>Brave New World</td>\n",
              "      <td>2</td>\n",
              "    </tr>\n",
              "    <tr>\n",
              "      <th>999</th>\n",
              "      <td>The Lord of the Rings</td>\n",
              "      <td>1</td>\n",
              "    </tr>\n",
              "  </tbody>\n",
              "</table>\n",
              "<p>1000 rows × 2 columns</p>\n",
              "</div>"
            ],
            "text/plain": [
              "               product_name  quantity\n",
              "0                  Catch 22         1\n",
              "1     The Lord of the Rings         1\n",
              "2    The Catcher In The Rye         1\n",
              "3                  Catch 22         1\n",
              "4               On the Road         1\n",
              "..                      ...       ...\n",
              "995    Nineteen Eighty Four         1\n",
              "996   The Lord of the Rings         2\n",
              "997             On the Road         1\n",
              "998         Brave New World         2\n",
              "999   The Lord of the Rings         1\n",
              "\n",
              "[1000 rows x 2 columns]"
            ]
          },
          "metadata": {
            "tags": []
          },
          "execution_count": 34
        }
      ]
    },
    {
      "cell_type": "markdown",
      "metadata": {
        "id": "C93jWF4w-6vb",
        "colab_type": "text"
      },
      "source": [
        "### Selecting more than one column gives us a DataFrame."
      ]
    },
    {
      "cell_type": "code",
      "metadata": {
        "id": "RRxb-8fM-6vb",
        "colab_type": "code",
        "colab": {
          "base_uri": "https://localhost:8080/",
          "height": 34
        },
        "outputId": "8abf116b-2b83-4203-ddb0-be5d9e0820d5"
      },
      "source": [
        "type(df[['product_name', 'quantity']])"
      ],
      "execution_count": null,
      "outputs": [
        {
          "output_type": "execute_result",
          "data": {
            "text/plain": [
              "pandas.core.frame.DataFrame"
            ]
          },
          "metadata": {
            "tags": []
          },
          "execution_count": 35
        }
      ]
    },
    {
      "cell_type": "markdown",
      "metadata": {
        "id": "HRIwK72b-6ve",
        "colab_type": "text"
      },
      "source": [
        "### Selecting one column gives us a Series."
      ]
    },
    {
      "cell_type": "code",
      "metadata": {
        "id": "9bplcy5K-6vf",
        "colab_type": "code",
        "colab": {
          "base_uri": "https://localhost:8080/",
          "height": 34
        },
        "outputId": "f2730175-60a8-4010-fdf5-180cbef5caae"
      },
      "source": [
        "type(df['product_name'].head())"
      ],
      "execution_count": null,
      "outputs": [
        {
          "output_type": "execute_result",
          "data": {
            "text/plain": [
              "pandas.core.series.Series"
            ]
          },
          "metadata": {
            "tags": []
          },
          "execution_count": 36
        }
      ]
    },
    {
      "cell_type": "markdown",
      "metadata": {
        "id": "p1FvJzlqB3jF",
        "colab_type": "text"
      },
      "source": [
        "Convert a series into a Dataframe"
      ]
    },
    {
      "cell_type": "code",
      "metadata": {
        "id": "2DshBj18CA4S",
        "colab_type": "code",
        "colab": {
          "base_uri": "https://localhost:8080/",
          "height": 204
        },
        "outputId": "5c63ba1d-1c76-470d-d6b3-e9c42becb0b6"
      },
      "source": [
        "# pd.DataFrame([df['product_name']])-> This will result in a transposed version\n",
        "df['product_name'].to_frame().head()"
      ],
      "execution_count": null,
      "outputs": [
        {
          "output_type": "execute_result",
          "data": {
            "text/html": [
              "<div>\n",
              "<style scoped>\n",
              "    .dataframe tbody tr th:only-of-type {\n",
              "        vertical-align: middle;\n",
              "    }\n",
              "\n",
              "    .dataframe tbody tr th {\n",
              "        vertical-align: top;\n",
              "    }\n",
              "\n",
              "    .dataframe thead th {\n",
              "        text-align: right;\n",
              "    }\n",
              "</style>\n",
              "<table border=\"1\" class=\"dataframe\">\n",
              "  <thead>\n",
              "    <tr style=\"text-align: right;\">\n",
              "      <th></th>\n",
              "      <th>product_name</th>\n",
              "    </tr>\n",
              "  </thead>\n",
              "  <tbody>\n",
              "    <tr>\n",
              "      <th>0</th>\n",
              "      <td>Catch 22</td>\n",
              "    </tr>\n",
              "    <tr>\n",
              "      <th>1</th>\n",
              "      <td>The Lord of the Rings</td>\n",
              "    </tr>\n",
              "    <tr>\n",
              "      <th>2</th>\n",
              "      <td>The Catcher In The Rye</td>\n",
              "    </tr>\n",
              "    <tr>\n",
              "      <th>3</th>\n",
              "      <td>Catch 22</td>\n",
              "    </tr>\n",
              "    <tr>\n",
              "      <th>4</th>\n",
              "      <td>On the Road</td>\n",
              "    </tr>\n",
              "  </tbody>\n",
              "</table>\n",
              "</div>"
            ],
            "text/plain": [
              "             product_name\n",
              "0                Catch 22\n",
              "1   The Lord of the Rings\n",
              "2  The Catcher In The Rye\n",
              "3                Catch 22\n",
              "4             On the Road"
            ]
          },
          "metadata": {
            "tags": []
          },
          "execution_count": 40
        }
      ]
    },
    {
      "cell_type": "markdown",
      "metadata": {
        "id": "IEX0nvaa-6vh",
        "colab_type": "text"
      },
      "source": [
        "### Access rows using `loc` or `iloc`."
      ]
    },
    {
      "cell_type": "markdown",
      "metadata": {
        "id": "JEvhDxj5-6vh",
        "colab_type": "text"
      },
      "source": [
        "The line below returns the first row."
      ]
    },
    {
      "cell_type": "code",
      "metadata": {
        "id": "o2miWAHC-6vh",
        "colab_type": "code",
        "colab": {
          "base_uri": "https://localhost:8080/",
          "height": 119
        },
        "outputId": "6dc33450-9b60-4d56-ad0f-34e650dd4ef5"
      },
      "source": [
        "df.loc[0]"
      ],
      "execution_count": null,
      "outputs": [
        {
          "output_type": "execute_result",
          "data": {
            "text/plain": [
              "date              2016/09/13\n",
              "user_id               147520\n",
              "product_name        Catch 22\n",
              "quantity                   1\n",
              "price_per_unit            35\n",
              "Name: 0, dtype: object"
            ]
          },
          "metadata": {
            "tags": []
          },
          "execution_count": 42
        }
      ]
    },
    {
      "cell_type": "markdown",
      "metadata": {
        "id": "fj3zeh2F-6vj",
        "colab_type": "text"
      },
      "source": [
        "### Access multiple rows."
      ]
    },
    {
      "cell_type": "markdown",
      "metadata": {
        "id": "t1CJjle8-6vk",
        "colab_type": "text"
      },
      "source": [
        "Rows 0 through 5."
      ]
    },
    {
      "cell_type": "code",
      "metadata": {
        "id": "zF1MqnrN-6vk",
        "colab_type": "code",
        "colab": {
          "base_uri": "https://localhost:8080/",
          "height": 235
        },
        "outputId": "d6503ed2-d34e-4b88-f8d7-3cb7f647945d"
      },
      "source": [
        "df.loc[0:5]"
      ],
      "execution_count": null,
      "outputs": [
        {
          "output_type": "execute_result",
          "data": {
            "text/html": [
              "<div>\n",
              "<style scoped>\n",
              "    .dataframe tbody tr th:only-of-type {\n",
              "        vertical-align: middle;\n",
              "    }\n",
              "\n",
              "    .dataframe tbody tr th {\n",
              "        vertical-align: top;\n",
              "    }\n",
              "\n",
              "    .dataframe thead th {\n",
              "        text-align: right;\n",
              "    }\n",
              "</style>\n",
              "<table border=\"1\" class=\"dataframe\">\n",
              "  <thead>\n",
              "    <tr style=\"text-align: right;\">\n",
              "      <th></th>\n",
              "      <th>date</th>\n",
              "      <th>user_id</th>\n",
              "      <th>product_name</th>\n",
              "      <th>quantity</th>\n",
              "      <th>price_per_unit</th>\n",
              "    </tr>\n",
              "  </thead>\n",
              "  <tbody>\n",
              "    <tr>\n",
              "      <th>0</th>\n",
              "      <td>2016/09/13</td>\n",
              "      <td>147520</td>\n",
              "      <td>Catch 22</td>\n",
              "      <td>1</td>\n",
              "      <td>35</td>\n",
              "    </tr>\n",
              "    <tr>\n",
              "      <th>1</th>\n",
              "      <td>2016/09/16</td>\n",
              "      <td>147568</td>\n",
              "      <td>The Lord of the Rings</td>\n",
              "      <td>1</td>\n",
              "      <td>27</td>\n",
              "    </tr>\n",
              "    <tr>\n",
              "      <th>2</th>\n",
              "      <td>2016/09/16</td>\n",
              "      <td>150011</td>\n",
              "      <td>The Catcher In The Rye</td>\n",
              "      <td>1</td>\n",
              "      <td>11</td>\n",
              "    </tr>\n",
              "    <tr>\n",
              "      <th>3</th>\n",
              "      <td>2016/09/18</td>\n",
              "      <td>148377</td>\n",
              "      <td>Catch 22</td>\n",
              "      <td>1</td>\n",
              "      <td>35</td>\n",
              "    </tr>\n",
              "    <tr>\n",
              "      <th>4</th>\n",
              "      <td>2016/09/19</td>\n",
              "      <td>150665</td>\n",
              "      <td>On the Road</td>\n",
              "      <td>1</td>\n",
              "      <td>24</td>\n",
              "    </tr>\n",
              "    <tr>\n",
              "      <th>5</th>\n",
              "      <td>2016/09/20</td>\n",
              "      <td>147624</td>\n",
              "      <td>To Kill a Mockingbird</td>\n",
              "      <td>1</td>\n",
              "      <td>22</td>\n",
              "    </tr>\n",
              "  </tbody>\n",
              "</table>\n",
              "</div>"
            ],
            "text/plain": [
              "         date  user_id            product_name  quantity  price_per_unit\n",
              "0  2016/09/13   147520                Catch 22         1              35\n",
              "1  2016/09/16   147568   The Lord of the Rings         1              27\n",
              "2  2016/09/16   150011  The Catcher In The Rye         1              11\n",
              "3  2016/09/18   148377                Catch 22         1              35\n",
              "4  2016/09/19   150665             On the Road         1              24\n",
              "5  2016/09/20   147624   To Kill a Mockingbird         1              22"
            ]
          },
          "metadata": {
            "tags": []
          },
          "execution_count": 43
        }
      ]
    },
    {
      "cell_type": "code",
      "metadata": {
        "id": "Y42ySAkq-6vm",
        "colab_type": "code",
        "colab": {
          "base_uri": "https://localhost:8080/",
          "height": 204
        },
        "outputId": "9bf155d0-b3e0-4a64-e907-c814fe246aaa"
      },
      "source": [
        "df.iloc[0:5]"
      ],
      "execution_count": null,
      "outputs": [
        {
          "output_type": "execute_result",
          "data": {
            "text/html": [
              "<div>\n",
              "<style scoped>\n",
              "    .dataframe tbody tr th:only-of-type {\n",
              "        vertical-align: middle;\n",
              "    }\n",
              "\n",
              "    .dataframe tbody tr th {\n",
              "        vertical-align: top;\n",
              "    }\n",
              "\n",
              "    .dataframe thead th {\n",
              "        text-align: right;\n",
              "    }\n",
              "</style>\n",
              "<table border=\"1\" class=\"dataframe\">\n",
              "  <thead>\n",
              "    <tr style=\"text-align: right;\">\n",
              "      <th></th>\n",
              "      <th>date</th>\n",
              "      <th>user_id</th>\n",
              "      <th>product_name</th>\n",
              "      <th>quantity</th>\n",
              "      <th>price_per_unit</th>\n",
              "    </tr>\n",
              "  </thead>\n",
              "  <tbody>\n",
              "    <tr>\n",
              "      <th>0</th>\n",
              "      <td>2016/09/13</td>\n",
              "      <td>147520</td>\n",
              "      <td>Catch 22</td>\n",
              "      <td>1</td>\n",
              "      <td>35</td>\n",
              "    </tr>\n",
              "    <tr>\n",
              "      <th>1</th>\n",
              "      <td>2016/09/16</td>\n",
              "      <td>147568</td>\n",
              "      <td>The Lord of the Rings</td>\n",
              "      <td>1</td>\n",
              "      <td>27</td>\n",
              "    </tr>\n",
              "    <tr>\n",
              "      <th>2</th>\n",
              "      <td>2016/09/16</td>\n",
              "      <td>150011</td>\n",
              "      <td>The Catcher In The Rye</td>\n",
              "      <td>1</td>\n",
              "      <td>11</td>\n",
              "    </tr>\n",
              "    <tr>\n",
              "      <th>3</th>\n",
              "      <td>2016/09/18</td>\n",
              "      <td>148377</td>\n",
              "      <td>Catch 22</td>\n",
              "      <td>1</td>\n",
              "      <td>35</td>\n",
              "    </tr>\n",
              "    <tr>\n",
              "      <th>4</th>\n",
              "      <td>2016/09/19</td>\n",
              "      <td>150665</td>\n",
              "      <td>On the Road</td>\n",
              "      <td>1</td>\n",
              "      <td>24</td>\n",
              "    </tr>\n",
              "  </tbody>\n",
              "</table>\n",
              "</div>"
            ],
            "text/plain": [
              "         date  user_id            product_name  quantity  price_per_unit\n",
              "0  2016/09/13   147520                Catch 22         1              35\n",
              "1  2016/09/16   147568   The Lord of the Rings         1              27\n",
              "2  2016/09/16   150011  The Catcher In The Rye         1              11\n",
              "3  2016/09/18   148377                Catch 22         1              35\n",
              "4  2016/09/19   150665             On the Road         1              24"
            ]
          },
          "metadata": {
            "tags": []
          },
          "execution_count": 44
        }
      ]
    },
    {
      "cell_type": "markdown",
      "metadata": {
        "id": "NFRoqvAwDfuM",
        "colab_type": "text"
      },
      "source": [
        "Difference between loc and iloc"
      ]
    },
    {
      "cell_type": "code",
      "metadata": {
        "id": "1eTPS85FDj8y",
        "colab_type": "code",
        "colab": {
          "base_uri": "https://localhost:8080/",
          "height": 306
        },
        "outputId": "8ee081c4-7727-4fc1-acb1-382722d49b47"
      },
      "source": [
        "new_df = df.head(5)\n",
        "new_df = new_df.set_index('user_id')\n",
        "print(new_df)\n",
        "# loc uses the index as a label\n",
        "print(new_df.loc[147520])\n",
        "#iloc uses the index as a position\n",
        "print(new_df.iloc[0])"
      ],
      "execution_count": null,
      "outputs": [
        {
          "output_type": "stream",
          "text": [
            "               date            product_name  quantity  price_per_unit\n",
            "user_id                                                              \n",
            "147520   2016/09/13                Catch 22         1              35\n",
            "147568   2016/09/16   The Lord of the Rings         1              27\n",
            "150011   2016/09/16  The Catcher In The Rye         1              11\n",
            "148377   2016/09/18                Catch 22         1              35\n",
            "150665   2016/09/19             On the Road         1              24\n",
            "date              2016/09/13\n",
            "product_name        Catch 22\n",
            "quantity                   1\n",
            "price_per_unit            35\n",
            "Name: 147520, dtype: object\n",
            "date              2016/09/13\n",
            "product_name        Catch 22\n",
            "quantity                   1\n",
            "price_per_unit            35\n",
            "Name: 147520, dtype: object\n"
          ],
          "name": "stdout"
        }
      ]
    },
    {
      "cell_type": "markdown",
      "metadata": {
        "id": "b2UbWKJa-6vo",
        "colab_type": "text"
      },
      "source": [
        "All rows, but only columns `date` and `user_id`."
      ]
    },
    {
      "cell_type": "code",
      "metadata": {
        "id": "s4nT6J6q-6vp",
        "colab_type": "code",
        "colab": {
          "base_uri": "https://localhost:8080/",
          "height": 419
        },
        "outputId": "d30e37f7-5740-4d83-b700-982a2fc2703e"
      },
      "source": [
        "df.loc[:, ['date', 'user_id']]"
      ],
      "execution_count": null,
      "outputs": [
        {
          "output_type": "execute_result",
          "data": {
            "text/html": [
              "<div>\n",
              "<style scoped>\n",
              "    .dataframe tbody tr th:only-of-type {\n",
              "        vertical-align: middle;\n",
              "    }\n",
              "\n",
              "    .dataframe tbody tr th {\n",
              "        vertical-align: top;\n",
              "    }\n",
              "\n",
              "    .dataframe thead th {\n",
              "        text-align: right;\n",
              "    }\n",
              "</style>\n",
              "<table border=\"1\" class=\"dataframe\">\n",
              "  <thead>\n",
              "    <tr style=\"text-align: right;\">\n",
              "      <th></th>\n",
              "      <th>date</th>\n",
              "      <th>user_id</th>\n",
              "    </tr>\n",
              "  </thead>\n",
              "  <tbody>\n",
              "    <tr>\n",
              "      <th>0</th>\n",
              "      <td>2016/09/13</td>\n",
              "      <td>147520</td>\n",
              "    </tr>\n",
              "    <tr>\n",
              "      <th>1</th>\n",
              "      <td>2016/09/16</td>\n",
              "      <td>147568</td>\n",
              "    </tr>\n",
              "    <tr>\n",
              "      <th>2</th>\n",
              "      <td>2016/09/16</td>\n",
              "      <td>150011</td>\n",
              "    </tr>\n",
              "    <tr>\n",
              "      <th>3</th>\n",
              "      <td>2016/09/18</td>\n",
              "      <td>148377</td>\n",
              "    </tr>\n",
              "    <tr>\n",
              "      <th>4</th>\n",
              "      <td>2016/09/19</td>\n",
              "      <td>150665</td>\n",
              "    </tr>\n",
              "    <tr>\n",
              "      <th>...</th>\n",
              "      <td>...</td>\n",
              "      <td>...</td>\n",
              "    </tr>\n",
              "    <tr>\n",
              "      <th>995</th>\n",
              "      <td>2016/10/15</td>\n",
              "      <td>151781</td>\n",
              "    </tr>\n",
              "    <tr>\n",
              "      <th>996</th>\n",
              "      <td>2016/10/15</td>\n",
              "      <td>148380</td>\n",
              "    </tr>\n",
              "    <tr>\n",
              "      <th>997</th>\n",
              "      <td>2016/10/15</td>\n",
              "      <td>149011</td>\n",
              "    </tr>\n",
              "    <tr>\n",
              "      <th>998</th>\n",
              "      <td>2016/10/15</td>\n",
              "      <td>147415</td>\n",
              "    </tr>\n",
              "    <tr>\n",
              "      <th>999</th>\n",
              "      <td>2016/10/15</td>\n",
              "      <td>149501</td>\n",
              "    </tr>\n",
              "  </tbody>\n",
              "</table>\n",
              "<p>1000 rows × 2 columns</p>\n",
              "</div>"
            ],
            "text/plain": [
              "           date  user_id\n",
              "0    2016/09/13   147520\n",
              "1    2016/09/16   147568\n",
              "2    2016/09/16   150011\n",
              "3    2016/09/18   148377\n",
              "4    2016/09/19   150665\n",
              "..          ...      ...\n",
              "995  2016/10/15   151781\n",
              "996  2016/10/15   148380\n",
              "997  2016/10/15   149011\n",
              "998  2016/10/15   147415\n",
              "999  2016/10/15   149501\n",
              "\n",
              "[1000 rows x 2 columns]"
            ]
          },
          "metadata": {
            "tags": []
          },
          "execution_count": 67
        }
      ]
    },
    {
      "cell_type": "markdown",
      "metadata": {
        "id": "7PUaDgy1-6vs",
        "colab_type": "text"
      },
      "source": [
        "You can access columns by index using `iloc`."
      ]
    },
    {
      "cell_type": "code",
      "metadata": {
        "id": "tAQnsWPg-6vs",
        "colab_type": "code",
        "colab": {
          "base_uri": "https://localhost:8080/",
          "height": 419
        },
        "outputId": "3f188e79-2b29-44c5-c9bf-46661d44dd98"
      },
      "source": [
        "df.iloc[:, [0, 1]]"
      ],
      "execution_count": null,
      "outputs": [
        {
          "output_type": "execute_result",
          "data": {
            "text/html": [
              "<div>\n",
              "<style scoped>\n",
              "    .dataframe tbody tr th:only-of-type {\n",
              "        vertical-align: middle;\n",
              "    }\n",
              "\n",
              "    .dataframe tbody tr th {\n",
              "        vertical-align: top;\n",
              "    }\n",
              "\n",
              "    .dataframe thead th {\n",
              "        text-align: right;\n",
              "    }\n",
              "</style>\n",
              "<table border=\"1\" class=\"dataframe\">\n",
              "  <thead>\n",
              "    <tr style=\"text-align: right;\">\n",
              "      <th></th>\n",
              "      <th>date</th>\n",
              "      <th>user_id</th>\n",
              "    </tr>\n",
              "  </thead>\n",
              "  <tbody>\n",
              "    <tr>\n",
              "      <th>0</th>\n",
              "      <td>2016/09/13</td>\n",
              "      <td>147520</td>\n",
              "    </tr>\n",
              "    <tr>\n",
              "      <th>1</th>\n",
              "      <td>2016/09/16</td>\n",
              "      <td>147568</td>\n",
              "    </tr>\n",
              "    <tr>\n",
              "      <th>2</th>\n",
              "      <td>2016/09/16</td>\n",
              "      <td>150011</td>\n",
              "    </tr>\n",
              "    <tr>\n",
              "      <th>3</th>\n",
              "      <td>2016/09/18</td>\n",
              "      <td>148377</td>\n",
              "    </tr>\n",
              "    <tr>\n",
              "      <th>4</th>\n",
              "      <td>2016/09/19</td>\n",
              "      <td>150665</td>\n",
              "    </tr>\n",
              "    <tr>\n",
              "      <th>...</th>\n",
              "      <td>...</td>\n",
              "      <td>...</td>\n",
              "    </tr>\n",
              "    <tr>\n",
              "      <th>995</th>\n",
              "      <td>2016/10/15</td>\n",
              "      <td>151781</td>\n",
              "    </tr>\n",
              "    <tr>\n",
              "      <th>996</th>\n",
              "      <td>2016/10/15</td>\n",
              "      <td>148380</td>\n",
              "    </tr>\n",
              "    <tr>\n",
              "      <th>997</th>\n",
              "      <td>2016/10/15</td>\n",
              "      <td>149011</td>\n",
              "    </tr>\n",
              "    <tr>\n",
              "      <th>998</th>\n",
              "      <td>2016/10/15</td>\n",
              "      <td>147415</td>\n",
              "    </tr>\n",
              "    <tr>\n",
              "      <th>999</th>\n",
              "      <td>2016/10/15</td>\n",
              "      <td>149501</td>\n",
              "    </tr>\n",
              "  </tbody>\n",
              "</table>\n",
              "<p>1000 rows × 2 columns</p>\n",
              "</div>"
            ],
            "text/plain": [
              "           date  user_id\n",
              "0    2016/09/13   147520\n",
              "1    2016/09/16   147568\n",
              "2    2016/09/16   150011\n",
              "3    2016/09/18   148377\n",
              "4    2016/09/19   150665\n",
              "..          ...      ...\n",
              "995  2016/10/15   151781\n",
              "996  2016/10/15   148380\n",
              "997  2016/10/15   149011\n",
              "998  2016/10/15   147415\n",
              "999  2016/10/15   149501\n",
              "\n",
              "[1000 rows x 2 columns]"
            ]
          },
          "metadata": {
            "tags": []
          },
          "execution_count": 68
        }
      ]
    },
    {
      "cell_type": "markdown",
      "metadata": {
        "id": "EhWZyXWY-6vu",
        "colab_type": "text"
      },
      "source": [
        "### Drop columns."
      ]
    },
    {
      "cell_type": "markdown",
      "metadata": {
        "id": "AX2H1yjh-6vv",
        "colab_type": "text"
      },
      "source": [
        "NOTE: this won't actually modify the DataFrame it will return a 'view' with the columns dropped. You can add the optional `inplace=True` parameter to drop the column in place."
      ]
    },
    {
      "cell_type": "code",
      "metadata": {
        "id": "jKFWA7cH-6vv",
        "colab_type": "code",
        "colab": {
          "base_uri": "https://localhost:8080/",
          "height": 419
        },
        "outputId": "e530f3b9-22ef-4637-bb13-9868659c6d24"
      },
      "source": [
        "df.drop('date', axis=1)"
      ],
      "execution_count": null,
      "outputs": [
        {
          "output_type": "execute_result",
          "data": {
            "text/html": [
              "<div>\n",
              "<style scoped>\n",
              "    .dataframe tbody tr th:only-of-type {\n",
              "        vertical-align: middle;\n",
              "    }\n",
              "\n",
              "    .dataframe tbody tr th {\n",
              "        vertical-align: top;\n",
              "    }\n",
              "\n",
              "    .dataframe thead th {\n",
              "        text-align: right;\n",
              "    }\n",
              "</style>\n",
              "<table border=\"1\" class=\"dataframe\">\n",
              "  <thead>\n",
              "    <tr style=\"text-align: right;\">\n",
              "      <th></th>\n",
              "      <th>user_id</th>\n",
              "      <th>product_name</th>\n",
              "      <th>quantity</th>\n",
              "      <th>price_per_unit</th>\n",
              "    </tr>\n",
              "  </thead>\n",
              "  <tbody>\n",
              "    <tr>\n",
              "      <th>0</th>\n",
              "      <td>147520</td>\n",
              "      <td>Catch 22</td>\n",
              "      <td>1</td>\n",
              "      <td>35</td>\n",
              "    </tr>\n",
              "    <tr>\n",
              "      <th>1</th>\n",
              "      <td>147568</td>\n",
              "      <td>The Lord of the Rings</td>\n",
              "      <td>1</td>\n",
              "      <td>27</td>\n",
              "    </tr>\n",
              "    <tr>\n",
              "      <th>2</th>\n",
              "      <td>150011</td>\n",
              "      <td>The Catcher In The Rye</td>\n",
              "      <td>1</td>\n",
              "      <td>11</td>\n",
              "    </tr>\n",
              "    <tr>\n",
              "      <th>3</th>\n",
              "      <td>148377</td>\n",
              "      <td>Catch 22</td>\n",
              "      <td>1</td>\n",
              "      <td>35</td>\n",
              "    </tr>\n",
              "    <tr>\n",
              "      <th>4</th>\n",
              "      <td>150665</td>\n",
              "      <td>On the Road</td>\n",
              "      <td>1</td>\n",
              "      <td>24</td>\n",
              "    </tr>\n",
              "    <tr>\n",
              "      <th>...</th>\n",
              "      <td>...</td>\n",
              "      <td>...</td>\n",
              "      <td>...</td>\n",
              "      <td>...</td>\n",
              "    </tr>\n",
              "    <tr>\n",
              "      <th>995</th>\n",
              "      <td>151781</td>\n",
              "      <td>Nineteen Eighty Four</td>\n",
              "      <td>1</td>\n",
              "      <td>20</td>\n",
              "    </tr>\n",
              "    <tr>\n",
              "      <th>996</th>\n",
              "      <td>148380</td>\n",
              "      <td>The Lord of the Rings</td>\n",
              "      <td>2</td>\n",
              "      <td>27</td>\n",
              "    </tr>\n",
              "    <tr>\n",
              "      <th>997</th>\n",
              "      <td>149011</td>\n",
              "      <td>On the Road</td>\n",
              "      <td>1</td>\n",
              "      <td>24</td>\n",
              "    </tr>\n",
              "    <tr>\n",
              "      <th>998</th>\n",
              "      <td>147415</td>\n",
              "      <td>Brave New World</td>\n",
              "      <td>2</td>\n",
              "      <td>17</td>\n",
              "    </tr>\n",
              "    <tr>\n",
              "      <th>999</th>\n",
              "      <td>149501</td>\n",
              "      <td>The Lord of the Rings</td>\n",
              "      <td>1</td>\n",
              "      <td>27</td>\n",
              "    </tr>\n",
              "  </tbody>\n",
              "</table>\n",
              "<p>1000 rows × 4 columns</p>\n",
              "</div>"
            ],
            "text/plain": [
              "     user_id            product_name  quantity  price_per_unit\n",
              "0     147520                Catch 22         1              35\n",
              "1     147568   The Lord of the Rings         1              27\n",
              "2     150011  The Catcher In The Rye         1              11\n",
              "3     148377                Catch 22         1              35\n",
              "4     150665             On the Road         1              24\n",
              "..       ...                     ...       ...             ...\n",
              "995   151781    Nineteen Eighty Four         1              20\n",
              "996   148380   The Lord of the Rings         2              27\n",
              "997   149011             On the Road         1              24\n",
              "998   147415         Brave New World         2              17\n",
              "999   149501   The Lord of the Rings         1              27\n",
              "\n",
              "[1000 rows x 4 columns]"
            ]
          },
          "metadata": {
            "tags": []
          },
          "execution_count": 74
        }
      ]
    },
    {
      "cell_type": "markdown",
      "metadata": {
        "id": "CWjYZ5yt-6vy",
        "colab_type": "text"
      },
      "source": [
        "### Drop rows."
      ]
    },
    {
      "cell_type": "markdown",
      "metadata": {
        "id": "hf-gz_yk-6vz",
        "colab_type": "text"
      },
      "source": [
        "NOTE: this won't actually modify the DataFrame. It will return a 'view' with the columns dropped. You can add the optional `inplace=True` parameter to drop the rows in place."
      ]
    },
    {
      "cell_type": "code",
      "metadata": {
        "id": "fjEN3fhw-6vz",
        "colab_type": "code",
        "colab": {
          "base_uri": "https://localhost:8080/",
          "height": 419
        },
        "outputId": "85eb87ad-2639-44a9-a35a-fdc420f01f3e"
      },
      "source": [
        "df.drop([0,3], axis=0)"
      ],
      "execution_count": null,
      "outputs": [
        {
          "output_type": "execute_result",
          "data": {
            "text/html": [
              "<div>\n",
              "<style scoped>\n",
              "    .dataframe tbody tr th:only-of-type {\n",
              "        vertical-align: middle;\n",
              "    }\n",
              "\n",
              "    .dataframe tbody tr th {\n",
              "        vertical-align: top;\n",
              "    }\n",
              "\n",
              "    .dataframe thead th {\n",
              "        text-align: right;\n",
              "    }\n",
              "</style>\n",
              "<table border=\"1\" class=\"dataframe\">\n",
              "  <thead>\n",
              "    <tr style=\"text-align: right;\">\n",
              "      <th></th>\n",
              "      <th>date</th>\n",
              "      <th>user_id</th>\n",
              "      <th>product_name</th>\n",
              "      <th>quantity</th>\n",
              "      <th>price_per_unit</th>\n",
              "    </tr>\n",
              "  </thead>\n",
              "  <tbody>\n",
              "    <tr>\n",
              "      <th>1</th>\n",
              "      <td>2016/09/16</td>\n",
              "      <td>147568</td>\n",
              "      <td>The Lord of the Rings</td>\n",
              "      <td>1</td>\n",
              "      <td>27</td>\n",
              "    </tr>\n",
              "    <tr>\n",
              "      <th>2</th>\n",
              "      <td>2016/09/16</td>\n",
              "      <td>150011</td>\n",
              "      <td>The Catcher In The Rye</td>\n",
              "      <td>1</td>\n",
              "      <td>11</td>\n",
              "    </tr>\n",
              "    <tr>\n",
              "      <th>4</th>\n",
              "      <td>2016/09/19</td>\n",
              "      <td>150665</td>\n",
              "      <td>On the Road</td>\n",
              "      <td>1</td>\n",
              "      <td>24</td>\n",
              "    </tr>\n",
              "    <tr>\n",
              "      <th>5</th>\n",
              "      <td>2016/09/20</td>\n",
              "      <td>147624</td>\n",
              "      <td>To Kill a Mockingbird</td>\n",
              "      <td>1</td>\n",
              "      <td>22</td>\n",
              "    </tr>\n",
              "    <tr>\n",
              "      <th>6</th>\n",
              "      <td>2016/09/21</td>\n",
              "      <td>146631</td>\n",
              "      <td>On the Road</td>\n",
              "      <td>1</td>\n",
              "      <td>24</td>\n",
              "    </tr>\n",
              "    <tr>\n",
              "      <th>...</th>\n",
              "      <td>...</td>\n",
              "      <td>...</td>\n",
              "      <td>...</td>\n",
              "      <td>...</td>\n",
              "      <td>...</td>\n",
              "    </tr>\n",
              "    <tr>\n",
              "      <th>995</th>\n",
              "      <td>2016/10/15</td>\n",
              "      <td>151781</td>\n",
              "      <td>Nineteen Eighty Four</td>\n",
              "      <td>1</td>\n",
              "      <td>20</td>\n",
              "    </tr>\n",
              "    <tr>\n",
              "      <th>996</th>\n",
              "      <td>2016/10/15</td>\n",
              "      <td>148380</td>\n",
              "      <td>The Lord of the Rings</td>\n",
              "      <td>2</td>\n",
              "      <td>27</td>\n",
              "    </tr>\n",
              "    <tr>\n",
              "      <th>997</th>\n",
              "      <td>2016/10/15</td>\n",
              "      <td>149011</td>\n",
              "      <td>On the Road</td>\n",
              "      <td>1</td>\n",
              "      <td>24</td>\n",
              "    </tr>\n",
              "    <tr>\n",
              "      <th>998</th>\n",
              "      <td>2016/10/15</td>\n",
              "      <td>147415</td>\n",
              "      <td>Brave New World</td>\n",
              "      <td>2</td>\n",
              "      <td>17</td>\n",
              "    </tr>\n",
              "    <tr>\n",
              "      <th>999</th>\n",
              "      <td>2016/10/15</td>\n",
              "      <td>149501</td>\n",
              "      <td>The Lord of the Rings</td>\n",
              "      <td>1</td>\n",
              "      <td>27</td>\n",
              "    </tr>\n",
              "  </tbody>\n",
              "</table>\n",
              "<p>998 rows × 5 columns</p>\n",
              "</div>"
            ],
            "text/plain": [
              "           date  user_id            product_name  quantity  price_per_unit\n",
              "1    2016/09/16   147568   The Lord of the Rings         1              27\n",
              "2    2016/09/16   150011  The Catcher In The Rye         1              11\n",
              "4    2016/09/19   150665             On the Road         1              24\n",
              "5    2016/09/20   147624   To Kill a Mockingbird         1              22\n",
              "6    2016/09/21   146631             On the Road         1              24\n",
              "..          ...      ...                     ...       ...             ...\n",
              "995  2016/10/15   151781    Nineteen Eighty Four         1              20\n",
              "996  2016/10/15   148380   The Lord of the Rings         2              27\n",
              "997  2016/10/15   149011             On the Road         1              24\n",
              "998  2016/10/15   147415         Brave New World         2              17\n",
              "999  2016/10/15   149501   The Lord of the Rings         1              27\n",
              "\n",
              "[998 rows x 5 columns]"
            ]
          },
          "metadata": {
            "tags": []
          },
          "execution_count": 75
        }
      ]
    },
    {
      "cell_type": "markdown",
      "metadata": {
        "id": "FWSKbagu-6v1",
        "colab_type": "text"
      },
      "source": [
        "<br/>\n",
        "<br/>\n",
        "<br/>\n",
        "<br/>"
      ]
    },
    {
      "cell_type": "markdown",
      "metadata": {
        "id": "eGsNFB3n-6v1",
        "colab_type": "text"
      },
      "source": [
        "# Dataframe Slicing"
      ]
    },
    {
      "cell_type": "markdown",
      "metadata": {
        "id": "KALqmNn--6v2",
        "colab_type": "text"
      },
      "source": [
        "### Use slicing to select rows."
      ]
    },
    {
      "cell_type": "markdown",
      "metadata": {
        "id": "keVGdFrA-6v2",
        "colab_type": "text"
      },
      "source": [
        "Below, we select all rows with an index 20 or higher."
      ]
    },
    {
      "cell_type": "code",
      "metadata": {
        "id": "lRqdufv9-6v3",
        "colab_type": "code",
        "colab": {
          "base_uri": "https://localhost:8080/",
          "height": 419
        },
        "outputId": "1b834322-4682-45d1-a676-412469bd2de1"
      },
      "source": [
        "df[20:] "
      ],
      "execution_count": null,
      "outputs": [
        {
          "output_type": "execute_result",
          "data": {
            "text/html": [
              "<div>\n",
              "<style scoped>\n",
              "    .dataframe tbody tr th:only-of-type {\n",
              "        vertical-align: middle;\n",
              "    }\n",
              "\n",
              "    .dataframe tbody tr th {\n",
              "        vertical-align: top;\n",
              "    }\n",
              "\n",
              "    .dataframe thead th {\n",
              "        text-align: right;\n",
              "    }\n",
              "</style>\n",
              "<table border=\"1\" class=\"dataframe\">\n",
              "  <thead>\n",
              "    <tr style=\"text-align: right;\">\n",
              "      <th></th>\n",
              "      <th>date</th>\n",
              "      <th>user_id</th>\n",
              "      <th>product_name</th>\n",
              "      <th>quantity</th>\n",
              "      <th>price_per_unit</th>\n",
              "    </tr>\n",
              "  </thead>\n",
              "  <tbody>\n",
              "    <tr>\n",
              "      <th>20</th>\n",
              "      <td>2016/09/26</td>\n",
              "      <td>151179</td>\n",
              "      <td>Catch 22</td>\n",
              "      <td>1</td>\n",
              "      <td>35</td>\n",
              "    </tr>\n",
              "    <tr>\n",
              "      <th>21</th>\n",
              "      <td>2016/09/26</td>\n",
              "      <td>148575</td>\n",
              "      <td>One Hundred Years of Solitude</td>\n",
              "      <td>-1</td>\n",
              "      <td>9</td>\n",
              "    </tr>\n",
              "    <tr>\n",
              "      <th>22</th>\n",
              "      <td>2016/09/26</td>\n",
              "      <td>148058</td>\n",
              "      <td>To Kill a Mockingbird</td>\n",
              "      <td>1</td>\n",
              "      <td>22</td>\n",
              "    </tr>\n",
              "    <tr>\n",
              "      <th>23</th>\n",
              "      <td>2016/09/26</td>\n",
              "      <td>146595</td>\n",
              "      <td>To Kill a Mockingbird</td>\n",
              "      <td>2</td>\n",
              "      <td>22</td>\n",
              "    </tr>\n",
              "    <tr>\n",
              "      <th>24</th>\n",
              "      <td>2016/09/27</td>\n",
              "      <td>149274</td>\n",
              "      <td>On the Road</td>\n",
              "      <td>2</td>\n",
              "      <td>24</td>\n",
              "    </tr>\n",
              "    <tr>\n",
              "      <th>...</th>\n",
              "      <td>...</td>\n",
              "      <td>...</td>\n",
              "      <td>...</td>\n",
              "      <td>...</td>\n",
              "      <td>...</td>\n",
              "    </tr>\n",
              "    <tr>\n",
              "      <th>995</th>\n",
              "      <td>2016/10/15</td>\n",
              "      <td>151781</td>\n",
              "      <td>Nineteen Eighty Four</td>\n",
              "      <td>1</td>\n",
              "      <td>20</td>\n",
              "    </tr>\n",
              "    <tr>\n",
              "      <th>996</th>\n",
              "      <td>2016/10/15</td>\n",
              "      <td>148380</td>\n",
              "      <td>The Lord of the Rings</td>\n",
              "      <td>2</td>\n",
              "      <td>27</td>\n",
              "    </tr>\n",
              "    <tr>\n",
              "      <th>997</th>\n",
              "      <td>2016/10/15</td>\n",
              "      <td>149011</td>\n",
              "      <td>On the Road</td>\n",
              "      <td>1</td>\n",
              "      <td>24</td>\n",
              "    </tr>\n",
              "    <tr>\n",
              "      <th>998</th>\n",
              "      <td>2016/10/15</td>\n",
              "      <td>147415</td>\n",
              "      <td>Brave New World</td>\n",
              "      <td>2</td>\n",
              "      <td>17</td>\n",
              "    </tr>\n",
              "    <tr>\n",
              "      <th>999</th>\n",
              "      <td>2016/10/15</td>\n",
              "      <td>149501</td>\n",
              "      <td>The Lord of the Rings</td>\n",
              "      <td>1</td>\n",
              "      <td>27</td>\n",
              "    </tr>\n",
              "  </tbody>\n",
              "</table>\n",
              "<p>980 rows × 5 columns</p>\n",
              "</div>"
            ],
            "text/plain": [
              "           date  user_id  ... quantity  price_per_unit\n",
              "20   2016/09/26   151179  ...        1              35\n",
              "21   2016/09/26   148575  ...       -1               9\n",
              "22   2016/09/26   148058  ...        1              22\n",
              "23   2016/09/26   146595  ...        2              22\n",
              "24   2016/09/27   149274  ...        2              24\n",
              "..          ...      ...  ...      ...             ...\n",
              "995  2016/10/15   151781  ...        1              20\n",
              "996  2016/10/15   148380  ...        2              27\n",
              "997  2016/10/15   149011  ...        1              24\n",
              "998  2016/10/15   147415  ...        2              17\n",
              "999  2016/10/15   149501  ...        1              27\n",
              "\n",
              "[980 rows x 5 columns]"
            ]
          },
          "metadata": {
            "tags": []
          },
          "execution_count": 77
        }
      ]
    },
    {
      "cell_type": "markdown",
      "metadata": {
        "id": "hvvcrTfp-6v5",
        "colab_type": "text"
      },
      "source": [
        "Below, we select all rows with an index location between 10 and 20."
      ]
    },
    {
      "cell_type": "code",
      "metadata": {
        "id": "yLnkJghf-6v5",
        "colab_type": "code",
        "colab": {
          "base_uri": "https://localhost:8080/",
          "height": 359
        },
        "outputId": "a941ae7d-0665-40c8-e52c-af1339d3c230"
      },
      "source": [
        "df[10:20]"
      ],
      "execution_count": null,
      "outputs": [
        {
          "output_type": "execute_result",
          "data": {
            "text/html": [
              "<div>\n",
              "<style scoped>\n",
              "    .dataframe tbody tr th:only-of-type {\n",
              "        vertical-align: middle;\n",
              "    }\n",
              "\n",
              "    .dataframe tbody tr th {\n",
              "        vertical-align: top;\n",
              "    }\n",
              "\n",
              "    .dataframe thead th {\n",
              "        text-align: right;\n",
              "    }\n",
              "</style>\n",
              "<table border=\"1\" class=\"dataframe\">\n",
              "  <thead>\n",
              "    <tr style=\"text-align: right;\">\n",
              "      <th></th>\n",
              "      <th>date</th>\n",
              "      <th>user_id</th>\n",
              "      <th>product_name</th>\n",
              "      <th>quantity</th>\n",
              "      <th>price_per_unit</th>\n",
              "    </tr>\n",
              "  </thead>\n",
              "  <tbody>\n",
              "    <tr>\n",
              "      <th>10</th>\n",
              "      <td>2016/09/23</td>\n",
              "      <td>150473</td>\n",
              "      <td>Nineteen Eighty Four</td>\n",
              "      <td>1</td>\n",
              "      <td>20</td>\n",
              "    </tr>\n",
              "    <tr>\n",
              "      <th>11</th>\n",
              "      <td>2016/09/23</td>\n",
              "      <td>145717</td>\n",
              "      <td>The Catcher In The Rye</td>\n",
              "      <td>2</td>\n",
              "      <td>11</td>\n",
              "    </tr>\n",
              "    <tr>\n",
              "      <th>12</th>\n",
              "      <td>2016/09/23</td>\n",
              "      <td>150629</td>\n",
              "      <td>Nineteen Eighty Four</td>\n",
              "      <td>1</td>\n",
              "      <td>20</td>\n",
              "    </tr>\n",
              "    <tr>\n",
              "      <th>13</th>\n",
              "      <td>2016/09/23</td>\n",
              "      <td>149015</td>\n",
              "      <td>Nineteen Eighty Four</td>\n",
              "      <td>-1</td>\n",
              "      <td>20</td>\n",
              "    </tr>\n",
              "    <tr>\n",
              "      <th>14</th>\n",
              "      <td>2016/09/23</td>\n",
              "      <td>150135</td>\n",
              "      <td>Ulysses</td>\n",
              "      <td>2</td>\n",
              "      <td>7</td>\n",
              "    </tr>\n",
              "    <tr>\n",
              "      <th>15</th>\n",
              "      <td>2016/09/24</td>\n",
              "      <td>149413</td>\n",
              "      <td>Lolita</td>\n",
              "      <td>1</td>\n",
              "      <td>30</td>\n",
              "    </tr>\n",
              "    <tr>\n",
              "      <th>16</th>\n",
              "      <td>2016/09/24</td>\n",
              "      <td>148328</td>\n",
              "      <td>The Catcher In The Rye</td>\n",
              "      <td>1</td>\n",
              "      <td>11</td>\n",
              "    </tr>\n",
              "    <tr>\n",
              "      <th>17</th>\n",
              "      <td>2016/09/25</td>\n",
              "      <td>150747</td>\n",
              "      <td>Nineteen Eighty Four</td>\n",
              "      <td>2</td>\n",
              "      <td>20</td>\n",
              "    </tr>\n",
              "    <tr>\n",
              "      <th>18</th>\n",
              "      <td>2016/09/25</td>\n",
              "      <td>146767</td>\n",
              "      <td>Lolita</td>\n",
              "      <td>-1</td>\n",
              "      <td>30</td>\n",
              "    </tr>\n",
              "    <tr>\n",
              "      <th>19</th>\n",
              "      <td>2016/09/25</td>\n",
              "      <td>149414</td>\n",
              "      <td>Brave New World</td>\n",
              "      <td>1</td>\n",
              "      <td>17</td>\n",
              "    </tr>\n",
              "  </tbody>\n",
              "</table>\n",
              "</div>"
            ],
            "text/plain": [
              "          date  user_id            product_name  quantity  price_per_unit\n",
              "10  2016/09/23   150473    Nineteen Eighty Four         1              20\n",
              "11  2016/09/23   145717  The Catcher In The Rye         2              11\n",
              "12  2016/09/23   150629    Nineteen Eighty Four         1              20\n",
              "13  2016/09/23   149015    Nineteen Eighty Four        -1              20\n",
              "14  2016/09/23   150135                 Ulysses         2               7\n",
              "15  2016/09/24   149413                  Lolita         1              30\n",
              "16  2016/09/24   148328  The Catcher In The Rye         1              11\n",
              "17  2016/09/25   150747    Nineteen Eighty Four         2              20\n",
              "18  2016/09/25   146767                  Lolita        -1              30\n",
              "19  2016/09/25   149414         Brave New World         1              17"
            ]
          },
          "metadata": {
            "tags": []
          },
          "execution_count": 78
        }
      ]
    },
    {
      "cell_type": "markdown",
      "metadata": {
        "id": "f7buGxZ9-6v7",
        "colab_type": "text"
      },
      "source": [
        "### Select every other row."
      ]
    },
    {
      "cell_type": "code",
      "metadata": {
        "id": "HccQqRQ5-6v7",
        "colab_type": "code",
        "colab": {
          "base_uri": "https://localhost:8080/",
          "height": 204
        },
        "outputId": "154805a6-acb6-49d5-a6b4-fc07068c2b96"
      },
      "source": [
        "df[10:20:2]"
      ],
      "execution_count": null,
      "outputs": [
        {
          "output_type": "execute_result",
          "data": {
            "text/html": [
              "<div>\n",
              "<style scoped>\n",
              "    .dataframe tbody tr th:only-of-type {\n",
              "        vertical-align: middle;\n",
              "    }\n",
              "\n",
              "    .dataframe tbody tr th {\n",
              "        vertical-align: top;\n",
              "    }\n",
              "\n",
              "    .dataframe thead th {\n",
              "        text-align: right;\n",
              "    }\n",
              "</style>\n",
              "<table border=\"1\" class=\"dataframe\">\n",
              "  <thead>\n",
              "    <tr style=\"text-align: right;\">\n",
              "      <th></th>\n",
              "      <th>date</th>\n",
              "      <th>user_id</th>\n",
              "      <th>product_name</th>\n",
              "      <th>quantity</th>\n",
              "      <th>price_per_unit</th>\n",
              "    </tr>\n",
              "  </thead>\n",
              "  <tbody>\n",
              "    <tr>\n",
              "      <th>10</th>\n",
              "      <td>2016/09/23</td>\n",
              "      <td>150473</td>\n",
              "      <td>Nineteen Eighty Four</td>\n",
              "      <td>1</td>\n",
              "      <td>20</td>\n",
              "    </tr>\n",
              "    <tr>\n",
              "      <th>12</th>\n",
              "      <td>2016/09/23</td>\n",
              "      <td>150629</td>\n",
              "      <td>Nineteen Eighty Four</td>\n",
              "      <td>1</td>\n",
              "      <td>20</td>\n",
              "    </tr>\n",
              "    <tr>\n",
              "      <th>14</th>\n",
              "      <td>2016/09/23</td>\n",
              "      <td>150135</td>\n",
              "      <td>Ulysses</td>\n",
              "      <td>2</td>\n",
              "      <td>7</td>\n",
              "    </tr>\n",
              "    <tr>\n",
              "      <th>16</th>\n",
              "      <td>2016/09/24</td>\n",
              "      <td>148328</td>\n",
              "      <td>The Catcher In The Rye</td>\n",
              "      <td>1</td>\n",
              "      <td>11</td>\n",
              "    </tr>\n",
              "    <tr>\n",
              "      <th>18</th>\n",
              "      <td>2016/09/25</td>\n",
              "      <td>146767</td>\n",
              "      <td>Lolita</td>\n",
              "      <td>-1</td>\n",
              "      <td>30</td>\n",
              "    </tr>\n",
              "  </tbody>\n",
              "</table>\n",
              "</div>"
            ],
            "text/plain": [
              "          date  user_id            product_name  quantity  price_per_unit\n",
              "10  2016/09/23   150473    Nineteen Eighty Four         1              20\n",
              "12  2016/09/23   150629    Nineteen Eighty Four         1              20\n",
              "14  2016/09/23   150135                 Ulysses         2               7\n",
              "16  2016/09/24   148328  The Catcher In The Rye         1              11\n",
              "18  2016/09/25   146767                  Lolita        -1              30"
            ]
          },
          "metadata": {
            "tags": []
          },
          "execution_count": 79
        }
      ]
    },
    {
      "cell_type": "markdown",
      "metadata": {
        "id": "T8BuKsKy-6v9",
        "colab_type": "text"
      },
      "source": [
        "### Slicing only a subset of the DataFrame."
      ]
    },
    {
      "cell_type": "code",
      "metadata": {
        "id": "U-5XAhn_-6v-",
        "colab_type": "code",
        "colab": {
          "base_uri": "https://localhost:8080/",
          "height": 359
        },
        "outputId": "83d96baf-93b5-42e0-c73a-85657173e45c"
      },
      "source": [
        "df[['user_id', 'product_name']][30:40]"
      ],
      "execution_count": null,
      "outputs": [
        {
          "output_type": "execute_result",
          "data": {
            "text/html": [
              "<div>\n",
              "<style scoped>\n",
              "    .dataframe tbody tr th:only-of-type {\n",
              "        vertical-align: middle;\n",
              "    }\n",
              "\n",
              "    .dataframe tbody tr th {\n",
              "        vertical-align: top;\n",
              "    }\n",
              "\n",
              "    .dataframe thead th {\n",
              "        text-align: right;\n",
              "    }\n",
              "</style>\n",
              "<table border=\"1\" class=\"dataframe\">\n",
              "  <thead>\n",
              "    <tr style=\"text-align: right;\">\n",
              "      <th></th>\n",
              "      <th>user_id</th>\n",
              "      <th>product_name</th>\n",
              "    </tr>\n",
              "  </thead>\n",
              "  <tbody>\n",
              "    <tr>\n",
              "      <th>30</th>\n",
              "      <td>148336</td>\n",
              "      <td>To Kill a Mockingbird</td>\n",
              "    </tr>\n",
              "    <tr>\n",
              "      <th>31</th>\n",
              "      <td>150316</td>\n",
              "      <td>Lolita</td>\n",
              "    </tr>\n",
              "    <tr>\n",
              "      <th>32</th>\n",
              "      <td>149069</td>\n",
              "      <td>Brave New World</td>\n",
              "    </tr>\n",
              "    <tr>\n",
              "      <th>33</th>\n",
              "      <td>153074</td>\n",
              "      <td>The Lord of the Rings</td>\n",
              "    </tr>\n",
              "    <tr>\n",
              "      <th>34</th>\n",
              "      <td>148561</td>\n",
              "      <td>On the Road</td>\n",
              "    </tr>\n",
              "    <tr>\n",
              "      <th>35</th>\n",
              "      <td>151175</td>\n",
              "      <td>On the Road</td>\n",
              "    </tr>\n",
              "    <tr>\n",
              "      <th>36</th>\n",
              "      <td>147294</td>\n",
              "      <td>On the Road</td>\n",
              "    </tr>\n",
              "    <tr>\n",
              "      <th>37</th>\n",
              "      <td>145966</td>\n",
              "      <td>Lolita</td>\n",
              "    </tr>\n",
              "    <tr>\n",
              "      <th>38</th>\n",
              "      <td>146419</td>\n",
              "      <td>The Grapes Of Wrath</td>\n",
              "    </tr>\n",
              "    <tr>\n",
              "      <th>39</th>\n",
              "      <td>152954</td>\n",
              "      <td>The Lord of the Rings</td>\n",
              "    </tr>\n",
              "  </tbody>\n",
              "</table>\n",
              "</div>"
            ],
            "text/plain": [
              "    user_id           product_name\n",
              "30   148336  To Kill a Mockingbird\n",
              "31   150316                 Lolita\n",
              "32   149069        Brave New World\n",
              "33   153074  The Lord of the Rings\n",
              "34   148561            On the Road\n",
              "35   151175            On the Road\n",
              "36   147294            On the Road\n",
              "37   145966                 Lolita\n",
              "38   146419    The Grapes Of Wrath\n",
              "39   152954  The Lord of the Rings"
            ]
          },
          "metadata": {
            "tags": []
          },
          "execution_count": 80
        }
      ]
    },
    {
      "cell_type": "markdown",
      "metadata": {
        "id": "GtnwC3-W-6wA",
        "colab_type": "text"
      },
      "source": [
        "### Get all unique entries in a column."
      ]
    },
    {
      "cell_type": "code",
      "metadata": {
        "id": "N7Qj91o3-6wA",
        "colab_type": "code",
        "colab": {
          "base_uri": "https://localhost:8080/",
          "height": 102
        },
        "outputId": "8d6943ec-6b76-4cd1-8d38-0c1cea4d284b"
      },
      "source": [
        "df['product_name'].unique()"
      ],
      "execution_count": null,
      "outputs": [
        {
          "output_type": "execute_result",
          "data": {
            "text/plain": [
              "array(['Catch 22', 'The Lord of the Rings', 'The Catcher In The Rye',\n",
              "       'On the Road', 'To Kill a Mockingbird', 'Brave New World',\n",
              "       'The Great Gatsby', 'Nineteen Eighty Four', 'Ulysses', 'Lolita',\n",
              "       'One Hundred Years of Solitude', 'The Grapes Of Wrath'],\n",
              "      dtype=object)"
            ]
          },
          "metadata": {
            "tags": []
          },
          "execution_count": 81
        }
      ]
    },
    {
      "cell_type": "markdown",
      "metadata": {
        "id": "9xryXMEQ-6wC",
        "colab_type": "text"
      },
      "source": [
        "### Add a new column to the DataFrame"
      ]
    },
    {
      "cell_type": "markdown",
      "metadata": {
        "id": "QmW4axUD-6wC",
        "colab_type": "text"
      },
      "source": [
        "Below, we create a new column called `amount` which is equal to `auantity * price_per_unit`."
      ]
    },
    {
      "cell_type": "code",
      "metadata": {
        "id": "3YfcDIWC-6wC",
        "colab_type": "code",
        "colab": {}
      },
      "source": [
        "df['amount'] = df['quantity'] * df['price_per_unit']"
      ],
      "execution_count": null,
      "outputs": []
    },
    {
      "cell_type": "code",
      "metadata": {
        "id": "8-opJHaZ-6wF",
        "colab_type": "code",
        "colab": {
          "base_uri": "https://localhost:8080/",
          "height": 204
        },
        "outputId": "3d414147-dca6-4db0-e8b6-4ee3bc4956ce"
      },
      "source": [
        "df.head()"
      ],
      "execution_count": null,
      "outputs": [
        {
          "output_type": "execute_result",
          "data": {
            "text/html": [
              "<div>\n",
              "<style scoped>\n",
              "    .dataframe tbody tr th:only-of-type {\n",
              "        vertical-align: middle;\n",
              "    }\n",
              "\n",
              "    .dataframe tbody tr th {\n",
              "        vertical-align: top;\n",
              "    }\n",
              "\n",
              "    .dataframe thead th {\n",
              "        text-align: right;\n",
              "    }\n",
              "</style>\n",
              "<table border=\"1\" class=\"dataframe\">\n",
              "  <thead>\n",
              "    <tr style=\"text-align: right;\">\n",
              "      <th></th>\n",
              "      <th>date</th>\n",
              "      <th>user_id</th>\n",
              "      <th>product_name</th>\n",
              "      <th>quantity</th>\n",
              "      <th>price_per_unit</th>\n",
              "      <th>amount</th>\n",
              "    </tr>\n",
              "  </thead>\n",
              "  <tbody>\n",
              "    <tr>\n",
              "      <th>0</th>\n",
              "      <td>2016/09/13</td>\n",
              "      <td>147520</td>\n",
              "      <td>Catch 22</td>\n",
              "      <td>1</td>\n",
              "      <td>35</td>\n",
              "      <td>35</td>\n",
              "    </tr>\n",
              "    <tr>\n",
              "      <th>1</th>\n",
              "      <td>2016/09/16</td>\n",
              "      <td>147568</td>\n",
              "      <td>The Lord of the Rings</td>\n",
              "      <td>1</td>\n",
              "      <td>27</td>\n",
              "      <td>27</td>\n",
              "    </tr>\n",
              "    <tr>\n",
              "      <th>2</th>\n",
              "      <td>2016/09/16</td>\n",
              "      <td>150011</td>\n",
              "      <td>The Catcher In The Rye</td>\n",
              "      <td>1</td>\n",
              "      <td>11</td>\n",
              "      <td>11</td>\n",
              "    </tr>\n",
              "    <tr>\n",
              "      <th>3</th>\n",
              "      <td>2016/09/18</td>\n",
              "      <td>148377</td>\n",
              "      <td>Catch 22</td>\n",
              "      <td>1</td>\n",
              "      <td>35</td>\n",
              "      <td>35</td>\n",
              "    </tr>\n",
              "    <tr>\n",
              "      <th>4</th>\n",
              "      <td>2016/09/19</td>\n",
              "      <td>150665</td>\n",
              "      <td>On the Road</td>\n",
              "      <td>1</td>\n",
              "      <td>24</td>\n",
              "      <td>24</td>\n",
              "    </tr>\n",
              "  </tbody>\n",
              "</table>\n",
              "</div>"
            ],
            "text/plain": [
              "         date  user_id  ... price_per_unit  amount\n",
              "0  2016/09/13   147520  ...             35      35\n",
              "1  2016/09/16   147568  ...             27      27\n",
              "2  2016/09/16   150011  ...             11      11\n",
              "3  2016/09/18   148377  ...             35      35\n",
              "4  2016/09/19   150665  ...             24      24\n",
              "\n",
              "[5 rows x 6 columns]"
            ]
          },
          "metadata": {
            "tags": []
          },
          "execution_count": 83
        }
      ]
    },
    {
      "cell_type": "markdown",
      "metadata": {
        "id": "_yMKwrzw-6wH",
        "colab_type": "text"
      },
      "source": [
        "<br/>\n",
        "<br/>\n",
        "<br/>\n",
        "<br/>"
      ]
    },
    {
      "cell_type": "markdown",
      "metadata": {
        "id": "qWPKvMLu-6wH",
        "colab_type": "text"
      },
      "source": [
        "# Filtering"
      ]
    },
    {
      "cell_type": "markdown",
      "metadata": {
        "id": "EpZs0ZjK-6wI",
        "colab_type": "text"
      },
      "source": [
        "### Filter by matching a column to a value."
      ]
    },
    {
      "cell_type": "markdown",
      "metadata": {
        "id": "vdir8qnU-6wI",
        "colab_type": "text"
      },
      "source": [
        "Below, we create a new DataFrame, called `books`, which contains only rows where the `product_name` is `Lolita`. Then we return the first 5 entries from that dataframe."
      ]
    },
    {
      "cell_type": "code",
      "metadata": {
        "id": "dMuRPDfo-6wI",
        "colab_type": "code",
        "colab": {
          "base_uri": "https://localhost:8080/",
          "height": 204
        },
        "outputId": "5b0793cc-6fef-4128-c725-7e9fb81e0dbc"
      },
      "source": [
        "books = df[df['product_name'] == 'Lolita']\n",
        "books[:5]"
      ],
      "execution_count": null,
      "outputs": [
        {
          "output_type": "execute_result",
          "data": {
            "text/html": [
              "<div>\n",
              "<style scoped>\n",
              "    .dataframe tbody tr th:only-of-type {\n",
              "        vertical-align: middle;\n",
              "    }\n",
              "\n",
              "    .dataframe tbody tr th {\n",
              "        vertical-align: top;\n",
              "    }\n",
              "\n",
              "    .dataframe thead th {\n",
              "        text-align: right;\n",
              "    }\n",
              "</style>\n",
              "<table border=\"1\" class=\"dataframe\">\n",
              "  <thead>\n",
              "    <tr style=\"text-align: right;\">\n",
              "      <th></th>\n",
              "      <th>date</th>\n",
              "      <th>user_id</th>\n",
              "      <th>product_name</th>\n",
              "      <th>quantity</th>\n",
              "      <th>price_per_unit</th>\n",
              "      <th>amount</th>\n",
              "    </tr>\n",
              "  </thead>\n",
              "  <tbody>\n",
              "    <tr>\n",
              "      <th>15</th>\n",
              "      <td>2016/09/24</td>\n",
              "      <td>149413</td>\n",
              "      <td>Lolita</td>\n",
              "      <td>1</td>\n",
              "      <td>30</td>\n",
              "      <td>30</td>\n",
              "    </tr>\n",
              "    <tr>\n",
              "      <th>18</th>\n",
              "      <td>2016/09/25</td>\n",
              "      <td>146767</td>\n",
              "      <td>Lolita</td>\n",
              "      <td>-1</td>\n",
              "      <td>30</td>\n",
              "      <td>-30</td>\n",
              "    </tr>\n",
              "    <tr>\n",
              "      <th>31</th>\n",
              "      <td>2016/09/27</td>\n",
              "      <td>150316</td>\n",
              "      <td>Lolita</td>\n",
              "      <td>2</td>\n",
              "      <td>30</td>\n",
              "      <td>60</td>\n",
              "    </tr>\n",
              "    <tr>\n",
              "      <th>37</th>\n",
              "      <td>2016/09/28</td>\n",
              "      <td>145966</td>\n",
              "      <td>Lolita</td>\n",
              "      <td>2</td>\n",
              "      <td>30</td>\n",
              "      <td>60</td>\n",
              "    </tr>\n",
              "    <tr>\n",
              "      <th>40</th>\n",
              "      <td>2016/09/29</td>\n",
              "      <td>147527</td>\n",
              "      <td>Lolita</td>\n",
              "      <td>1</td>\n",
              "      <td>30</td>\n",
              "      <td>30</td>\n",
              "    </tr>\n",
              "  </tbody>\n",
              "</table>\n",
              "</div>"
            ],
            "text/plain": [
              "          date  user_id product_name  quantity  price_per_unit  amount\n",
              "15  2016/09/24   149413       Lolita         1              30      30\n",
              "18  2016/09/25   146767       Lolita        -1              30     -30\n",
              "31  2016/09/27   150316       Lolita         2              30      60\n",
              "37  2016/09/28   145966       Lolita         2              30      60\n",
              "40  2016/09/29   147527       Lolita         1              30      30"
            ]
          },
          "metadata": {
            "tags": []
          },
          "execution_count": 84
        }
      ]
    },
    {
      "cell_type": "markdown",
      "metadata": {
        "id": "ZLPlDL8H-6wM",
        "colab_type": "text"
      },
      "source": [
        "### Example: get all purchases with an amount more than $80."
      ]
    },
    {
      "cell_type": "code",
      "metadata": {
        "id": "KEE0g85L-6wN",
        "colab_type": "code",
        "colab": {
          "base_uri": "https://localhost:8080/",
          "height": 173
        },
        "outputId": "5ddf2f61-6904-4038-fbff-bc4726915c74"
      },
      "source": [
        "df[df['amount'] > 80]"
      ],
      "execution_count": null,
      "outputs": [
        {
          "output_type": "execute_result",
          "data": {
            "text/html": [
              "<div>\n",
              "<style scoped>\n",
              "    .dataframe tbody tr th:only-of-type {\n",
              "        vertical-align: middle;\n",
              "    }\n",
              "\n",
              "    .dataframe tbody tr th {\n",
              "        vertical-align: top;\n",
              "    }\n",
              "\n",
              "    .dataframe thead th {\n",
              "        text-align: right;\n",
              "    }\n",
              "</style>\n",
              "<table border=\"1\" class=\"dataframe\">\n",
              "  <thead>\n",
              "    <tr style=\"text-align: right;\">\n",
              "      <th></th>\n",
              "      <th>date</th>\n",
              "      <th>user_id</th>\n",
              "      <th>product_name</th>\n",
              "      <th>quantity</th>\n",
              "      <th>price_per_unit</th>\n",
              "      <th>amount</th>\n",
              "    </tr>\n",
              "  </thead>\n",
              "  <tbody>\n",
              "    <tr>\n",
              "      <th>62</th>\n",
              "      <td>2016/10/01</td>\n",
              "      <td>151802</td>\n",
              "      <td>The Lord of the Rings</td>\n",
              "      <td>3</td>\n",
              "      <td>27</td>\n",
              "      <td>81</td>\n",
              "    </tr>\n",
              "    <tr>\n",
              "      <th>280</th>\n",
              "      <td>2016/10/09</td>\n",
              "      <td>149287</td>\n",
              "      <td>Catch 22</td>\n",
              "      <td>3</td>\n",
              "      <td>35</td>\n",
              "      <td>105</td>\n",
              "    </tr>\n",
              "    <tr>\n",
              "      <th>392</th>\n",
              "      <td>2016/10/11</td>\n",
              "      <td>150356</td>\n",
              "      <td>Lolita</td>\n",
              "      <td>3</td>\n",
              "      <td>30</td>\n",
              "      <td>90</td>\n",
              "    </tr>\n",
              "    <tr>\n",
              "      <th>756</th>\n",
              "      <td>2016/10/14</td>\n",
              "      <td>148438</td>\n",
              "      <td>The Lord of the Rings</td>\n",
              "      <td>3</td>\n",
              "      <td>27</td>\n",
              "      <td>81</td>\n",
              "    </tr>\n",
              "  </tbody>\n",
              "</table>\n",
              "</div>"
            ],
            "text/plain": [
              "           date  user_id  ... price_per_unit  amount\n",
              "62   2016/10/01   151802  ...             27      81\n",
              "280  2016/10/09   149287  ...             35     105\n",
              "392  2016/10/11   150356  ...             30      90\n",
              "756  2016/10/14   148438  ...             27      81\n",
              "\n",
              "[4 rows x 6 columns]"
            ]
          },
          "metadata": {
            "tags": []
          },
          "execution_count": 85
        }
      ]
    },
    {
      "cell_type": "markdown",
      "metadata": {
        "id": "Pk7LnG4Z-6wO",
        "colab_type": "text"
      },
      "source": [
        "### Example: how many entries do we have for Catch-22?"
      ]
    },
    {
      "cell_type": "markdown",
      "metadata": {
        "id": "lR8Iita5-6wO",
        "colab_type": "text"
      },
      "source": [
        "NOTE: we can use the shape property - returns a tuple representing the dimensions of the DataDrame:\n",
        "* `shape[0]` - rows\n",
        "* `shape[1]` - columns"
      ]
    },
    {
      "cell_type": "code",
      "metadata": {
        "id": "tGFgIbRY-6wP",
        "colab_type": "code",
        "colab": {
          "base_uri": "https://localhost:8080/",
          "height": 34
        },
        "outputId": "fe85df65-fb18-427e-d8ba-876c672799d8"
      },
      "source": [
        "df[df['product_name'] == 'Catch 22'].shape[0]"
      ],
      "execution_count": null,
      "outputs": [
        {
          "output_type": "execute_result",
          "data": {
            "text/plain": [
              "155"
            ]
          },
          "metadata": {
            "tags": []
          },
          "execution_count": 92
        }
      ]
    },
    {
      "cell_type": "markdown",
      "metadata": {
        "id": "x9OB1AdT-6wQ",
        "colab_type": "text"
      },
      "source": [
        "Number of columns:"
      ]
    },
    {
      "cell_type": "code",
      "metadata": {
        "id": "3EUVYFEO-6wQ",
        "colab_type": "code",
        "colab": {
          "base_uri": "https://localhost:8080/",
          "height": 34
        },
        "outputId": "672114e0-d815-4d76-a89e-afd1c2bf602d"
      },
      "source": [
        "df[df['product_name'] == 'Catch 22'].shape[1]"
      ],
      "execution_count": null,
      "outputs": [
        {
          "output_type": "execute_result",
          "data": {
            "text/plain": [
              "6"
            ]
          },
          "metadata": {
            "tags": []
          },
          "execution_count": 93
        }
      ]
    },
    {
      "cell_type": "markdown",
      "metadata": {
        "id": "lJR7BJms-6wS",
        "colab_type": "text"
      },
      "source": [
        "### Example: which books cost less than $20?"
      ]
    },
    {
      "cell_type": "code",
      "metadata": {
        "id": "bLLVbfob-6wS",
        "colab_type": "code",
        "colab": {
          "base_uri": "https://localhost:8080/",
          "height": 68
        },
        "outputId": "4e4519fe-54d1-435b-c56f-38770ccf5835"
      },
      "source": [
        "books_df = df[df['price_per_unit'] < 20]\n",
        "books_df['product_name'].unique()"
      ],
      "execution_count": null,
      "outputs": [
        {
          "output_type": "execute_result",
          "data": {
            "text/plain": [
              "array(['The Catcher In The Rye', 'Brave New World', 'The Great Gatsby',\n",
              "       'Ulysses', 'One Hundred Years of Solitude', 'The Grapes Of Wrath'],\n",
              "      dtype=object)"
            ]
          },
          "metadata": {
            "tags": []
          },
          "execution_count": 94
        }
      ]
    },
    {
      "cell_type": "markdown",
      "metadata": {
        "id": "QL5wOpPh-6wU",
        "colab_type": "text"
      },
      "source": [
        "### Example: Which books cost less than $20, and have a quantity of 1, 0 or -1?"
      ]
    },
    {
      "cell_type": "markdown",
      "metadata": {
        "id": "tQKcz25t-6wU",
        "colab_type": "text"
      },
      "source": [
        "NOTE: use `&` for `and`, `|` for `o`r and `~` for `not`. Pay attention to the paranthesis - they are important!"
      ]
    },
    {
      "cell_type": "code",
      "metadata": {
        "id": "ceP1g1A8-6wV",
        "colab_type": "code",
        "colab": {
          "base_uri": "https://localhost:8080/",
          "height": 204
        },
        "outputId": "799f78ed-c377-435a-f63e-31fbd4044582"
      },
      "source": [
        "df[(df['price_per_unit'] < 20) & ~(df['quantity'] > 1)].head()"
      ],
      "execution_count": null,
      "outputs": [
        {
          "output_type": "execute_result",
          "data": {
            "text/html": [
              "<div>\n",
              "<style scoped>\n",
              "    .dataframe tbody tr th:only-of-type {\n",
              "        vertical-align: middle;\n",
              "    }\n",
              "\n",
              "    .dataframe tbody tr th {\n",
              "        vertical-align: top;\n",
              "    }\n",
              "\n",
              "    .dataframe thead th {\n",
              "        text-align: right;\n",
              "    }\n",
              "</style>\n",
              "<table border=\"1\" class=\"dataframe\">\n",
              "  <thead>\n",
              "    <tr style=\"text-align: right;\">\n",
              "      <th></th>\n",
              "      <th>date</th>\n",
              "      <th>user_id</th>\n",
              "      <th>product_name</th>\n",
              "      <th>quantity</th>\n",
              "      <th>price_per_unit</th>\n",
              "      <th>amount</th>\n",
              "    </tr>\n",
              "  </thead>\n",
              "  <tbody>\n",
              "    <tr>\n",
              "      <th>2</th>\n",
              "      <td>2016/09/16</td>\n",
              "      <td>150011</td>\n",
              "      <td>The Catcher In The Rye</td>\n",
              "      <td>1</td>\n",
              "      <td>11</td>\n",
              "      <td>11</td>\n",
              "    </tr>\n",
              "    <tr>\n",
              "      <th>9</th>\n",
              "      <td>2016/09/22</td>\n",
              "      <td>152572</td>\n",
              "      <td>The Great Gatsby</td>\n",
              "      <td>1</td>\n",
              "      <td>10</td>\n",
              "      <td>10</td>\n",
              "    </tr>\n",
              "    <tr>\n",
              "      <th>16</th>\n",
              "      <td>2016/09/24</td>\n",
              "      <td>148328</td>\n",
              "      <td>The Catcher In The Rye</td>\n",
              "      <td>1</td>\n",
              "      <td>11</td>\n",
              "      <td>11</td>\n",
              "    </tr>\n",
              "    <tr>\n",
              "      <th>19</th>\n",
              "      <td>2016/09/25</td>\n",
              "      <td>149414</td>\n",
              "      <td>Brave New World</td>\n",
              "      <td>1</td>\n",
              "      <td>17</td>\n",
              "      <td>17</td>\n",
              "    </tr>\n",
              "    <tr>\n",
              "      <th>21</th>\n",
              "      <td>2016/09/26</td>\n",
              "      <td>148575</td>\n",
              "      <td>One Hundred Years of Solitude</td>\n",
              "      <td>-1</td>\n",
              "      <td>9</td>\n",
              "      <td>-9</td>\n",
              "    </tr>\n",
              "  </tbody>\n",
              "</table>\n",
              "</div>"
            ],
            "text/plain": [
              "          date  user_id  ... price_per_unit  amount\n",
              "2   2016/09/16   150011  ...             11      11\n",
              "9   2016/09/22   152572  ...             10      10\n",
              "16  2016/09/24   148328  ...             11      11\n",
              "19  2016/09/25   149414  ...             17      17\n",
              "21  2016/09/26   148575  ...              9      -9\n",
              "\n",
              "[5 rows x 6 columns]"
            ]
          },
          "metadata": {
            "tags": []
          },
          "execution_count": 95
        }
      ]
    },
    {
      "cell_type": "markdown",
      "metadata": {
        "id": "TCwFFlMg-6wX",
        "colab_type": "text"
      },
      "source": [
        "<br/>\n",
        "<br/>\n",
        "<br/>\n",
        "<br/>"
      ]
    },
    {
      "cell_type": "markdown",
      "metadata": {
        "id": "3iXs4a7I-6wY",
        "colab_type": "text"
      },
      "source": [
        "# Advanced Column Creation"
      ]
    },
    {
      "cell_type": "markdown",
      "metadata": {
        "id": "aINYP18w-6wY",
        "colab_type": "text"
      },
      "source": [
        "### How might we go about creating a flag for those books that cost less than $20?"
      ]
    },
    {
      "cell_type": "markdown",
      "metadata": {
        "id": "qxSm3dC6-6wY",
        "colab_type": "text"
      },
      "source": [
        "First, write a function that takes a row and returns `True` or `False` based on our condition."
      ]
    },
    {
      "cell_type": "code",
      "metadata": {
        "id": "SEqKrszk-6wZ",
        "colab_type": "code",
        "colab": {}
      },
      "source": [
        "def low_cost(row):\n",
        "    return row['price_per_unit'] < 20"
      ],
      "execution_count": null,
      "outputs": []
    },
    {
      "cell_type": "markdown",
      "metadata": {
        "id": "dFthXBL4-6wa",
        "colab_type": "text"
      },
      "source": [
        "Then, apply it to each row (note: `axis=1` because we're adding a column):"
      ]
    },
    {
      "cell_type": "code",
      "metadata": {
        "scrolled": true,
        "id": "OfYUMrVb-6wb",
        "colab_type": "code",
        "colab": {
          "base_uri": "https://localhost:8080/",
          "height": 204
        },
        "outputId": "e077b118-4b08-4459-bd7e-91830b9f6caa"
      },
      "source": [
        "df['low_cost'] = df.apply(low_cost, axis=1)\n",
        "df.head()"
      ],
      "execution_count": null,
      "outputs": [
        {
          "output_type": "execute_result",
          "data": {
            "text/html": [
              "<div>\n",
              "<style scoped>\n",
              "    .dataframe tbody tr th:only-of-type {\n",
              "        vertical-align: middle;\n",
              "    }\n",
              "\n",
              "    .dataframe tbody tr th {\n",
              "        vertical-align: top;\n",
              "    }\n",
              "\n",
              "    .dataframe thead th {\n",
              "        text-align: right;\n",
              "    }\n",
              "</style>\n",
              "<table border=\"1\" class=\"dataframe\">\n",
              "  <thead>\n",
              "    <tr style=\"text-align: right;\">\n",
              "      <th></th>\n",
              "      <th>date</th>\n",
              "      <th>user_id</th>\n",
              "      <th>product_name</th>\n",
              "      <th>quantity</th>\n",
              "      <th>price_per_unit</th>\n",
              "      <th>amount</th>\n",
              "      <th>low_cost</th>\n",
              "    </tr>\n",
              "  </thead>\n",
              "  <tbody>\n",
              "    <tr>\n",
              "      <th>0</th>\n",
              "      <td>2016/09/13</td>\n",
              "      <td>147520</td>\n",
              "      <td>Catch 22</td>\n",
              "      <td>1</td>\n",
              "      <td>35</td>\n",
              "      <td>35</td>\n",
              "      <td>False</td>\n",
              "    </tr>\n",
              "    <tr>\n",
              "      <th>1</th>\n",
              "      <td>2016/09/16</td>\n",
              "      <td>147568</td>\n",
              "      <td>The Lord of the Rings</td>\n",
              "      <td>1</td>\n",
              "      <td>27</td>\n",
              "      <td>27</td>\n",
              "      <td>False</td>\n",
              "    </tr>\n",
              "    <tr>\n",
              "      <th>2</th>\n",
              "      <td>2016/09/16</td>\n",
              "      <td>150011</td>\n",
              "      <td>The Catcher In The Rye</td>\n",
              "      <td>1</td>\n",
              "      <td>11</td>\n",
              "      <td>11</td>\n",
              "      <td>True</td>\n",
              "    </tr>\n",
              "    <tr>\n",
              "      <th>3</th>\n",
              "      <td>2016/09/18</td>\n",
              "      <td>148377</td>\n",
              "      <td>Catch 22</td>\n",
              "      <td>1</td>\n",
              "      <td>35</td>\n",
              "      <td>35</td>\n",
              "      <td>False</td>\n",
              "    </tr>\n",
              "    <tr>\n",
              "      <th>4</th>\n",
              "      <td>2016/09/19</td>\n",
              "      <td>150665</td>\n",
              "      <td>On the Road</td>\n",
              "      <td>1</td>\n",
              "      <td>24</td>\n",
              "      <td>24</td>\n",
              "      <td>False</td>\n",
              "    </tr>\n",
              "  </tbody>\n",
              "</table>\n",
              "</div>"
            ],
            "text/plain": [
              "         date  user_id  ... amount  low_cost\n",
              "0  2016/09/13   147520  ...     35     False\n",
              "1  2016/09/16   147568  ...     27     False\n",
              "2  2016/09/16   150011  ...     11      True\n",
              "3  2016/09/18   148377  ...     35     False\n",
              "4  2016/09/19   150665  ...     24     False\n",
              "\n",
              "[5 rows x 7 columns]"
            ]
          },
          "metadata": {
            "tags": []
          },
          "execution_count": 97
        }
      ]
    },
    {
      "cell_type": "markdown",
      "metadata": {
        "id": "u60rVaEs-6wc",
        "colab_type": "text"
      },
      "source": [
        "<br/>\n",
        "<br/>\n",
        "<br/>\n",
        "<br/>"
      ]
    },
    {
      "cell_type": "markdown",
      "metadata": {
        "id": "okdOQccP-6wd",
        "colab_type": "text"
      },
      "source": [
        "# Get basic statistics and other information about a DataFrame"
      ]
    },
    {
      "cell_type": "code",
      "metadata": {
        "id": "7z_4-xIE-6we",
        "colab_type": "code",
        "colab": {
          "base_uri": "https://localhost:8080/",
          "height": 297
        },
        "outputId": "d1e01471-8475-4a13-d89a-51306c01fd5b"
      },
      "source": [
        "df.describe()"
      ],
      "execution_count": null,
      "outputs": [
        {
          "output_type": "execute_result",
          "data": {
            "text/html": [
              "<div>\n",
              "<style scoped>\n",
              "    .dataframe tbody tr th:only-of-type {\n",
              "        vertical-align: middle;\n",
              "    }\n",
              "\n",
              "    .dataframe tbody tr th {\n",
              "        vertical-align: top;\n",
              "    }\n",
              "\n",
              "    .dataframe thead th {\n",
              "        text-align: right;\n",
              "    }\n",
              "</style>\n",
              "<table border=\"1\" class=\"dataframe\">\n",
              "  <thead>\n",
              "    <tr style=\"text-align: right;\">\n",
              "      <th></th>\n",
              "      <th>user_id</th>\n",
              "      <th>quantity</th>\n",
              "      <th>price_per_unit</th>\n",
              "      <th>amount</th>\n",
              "    </tr>\n",
              "  </thead>\n",
              "  <tbody>\n",
              "    <tr>\n",
              "      <th>count</th>\n",
              "      <td>1000.000000</td>\n",
              "      <td>1000.000000</td>\n",
              "      <td>1000.000000</td>\n",
              "      <td>1000.000000</td>\n",
              "    </tr>\n",
              "    <tr>\n",
              "      <th>mean</th>\n",
              "      <td>149267.291000</td>\n",
              "      <td>1.171000</td>\n",
              "      <td>22.654000</td>\n",
              "      <td>26.658000</td>\n",
              "    </tr>\n",
              "    <tr>\n",
              "      <th>std</th>\n",
              "      <td>1809.432622</td>\n",
              "      <td>0.718523</td>\n",
              "      <td>8.471957</td>\n",
              "      <td>20.079198</td>\n",
              "    </tr>\n",
              "    <tr>\n",
              "      <th>min</th>\n",
              "      <td>145677.000000</td>\n",
              "      <td>-1.000000</td>\n",
              "      <td>7.000000</td>\n",
              "      <td>-35.000000</td>\n",
              "    </tr>\n",
              "    <tr>\n",
              "      <th>25%</th>\n",
              "      <td>147922.000000</td>\n",
              "      <td>1.000000</td>\n",
              "      <td>17.000000</td>\n",
              "      <td>17.000000</td>\n",
              "    </tr>\n",
              "    <tr>\n",
              "      <th>50%</th>\n",
              "      <td>149177.500000</td>\n",
              "      <td>1.000000</td>\n",
              "      <td>22.000000</td>\n",
              "      <td>24.000000</td>\n",
              "    </tr>\n",
              "    <tr>\n",
              "      <th>75%</th>\n",
              "      <td>150557.750000</td>\n",
              "      <td>2.000000</td>\n",
              "      <td>30.000000</td>\n",
              "      <td>35.000000</td>\n",
              "    </tr>\n",
              "    <tr>\n",
              "      <th>max</th>\n",
              "      <td>154723.000000</td>\n",
              "      <td>3.000000</td>\n",
              "      <td>35.000000</td>\n",
              "      <td>105.000000</td>\n",
              "    </tr>\n",
              "  </tbody>\n",
              "</table>\n",
              "</div>"
            ],
            "text/plain": [
              "             user_id     quantity  price_per_unit       amount\n",
              "count    1000.000000  1000.000000     1000.000000  1000.000000\n",
              "mean   149267.291000     1.171000       22.654000    26.658000\n",
              "std      1809.432622     0.718523        8.471957    20.079198\n",
              "min    145677.000000    -1.000000        7.000000   -35.000000\n",
              "25%    147922.000000     1.000000       17.000000    17.000000\n",
              "50%    149177.500000     1.000000       22.000000    24.000000\n",
              "75%    150557.750000     2.000000       30.000000    35.000000\n",
              "max    154723.000000     3.000000       35.000000   105.000000"
            ]
          },
          "metadata": {
            "tags": []
          },
          "execution_count": 98
        }
      ]
    },
    {
      "cell_type": "code",
      "metadata": {
        "id": "G04PJDep-6wf",
        "colab_type": "code",
        "colab": {
          "base_uri": "https://localhost:8080/",
          "height": 255
        },
        "outputId": "7039a46b-1af6-415a-da1c-f77c7360050b"
      },
      "source": [
        "df.info()"
      ],
      "execution_count": null,
      "outputs": [
        {
          "output_type": "stream",
          "text": [
            "<class 'pandas.core.frame.DataFrame'>\n",
            "RangeIndex: 1000 entries, 0 to 999\n",
            "Data columns (total 7 columns):\n",
            " #   Column          Non-Null Count  Dtype \n",
            "---  ------          --------------  ----- \n",
            " 0   date            1000 non-null   object\n",
            " 1   user_id         1000 non-null   int64 \n",
            " 2   product_name    1000 non-null   object\n",
            " 3   quantity        1000 non-null   int64 \n",
            " 4   price_per_unit  1000 non-null   int64 \n",
            " 5   amount          1000 non-null   int64 \n",
            " 6   low_cost        1000 non-null   bool  \n",
            "dtypes: bool(1), int64(4), object(2)\n",
            "memory usage: 48.0+ KB\n"
          ],
          "name": "stdout"
        }
      ]
    },
    {
      "cell_type": "markdown",
      "metadata": {
        "id": "53kYYOUi-6wg",
        "colab_type": "text"
      },
      "source": [
        "<br/>\n",
        "<br/>\n",
        "<br/>\n",
        "<br/>"
      ]
    },
    {
      "cell_type": "markdown",
      "metadata": {
        "id": "IrfiWSge-6wh",
        "colab_type": "text"
      },
      "source": [
        "# Plotting using `matplotlib` and the `seaborn` library"
      ]
    },
    {
      "cell_type": "markdown",
      "metadata": {
        "id": "gWn46n_h-6wh",
        "colab_type": "text"
      },
      "source": [
        "Import required modules. \n",
        "\n",
        "**NOTES:** \n",
        "\n",
        "* `%matplotlib inline` sets the matplotlib backend 'inline', meaning all plots will be displayed underneath the code cell.\n",
        "\n",
        "* `sn.set()` sets the default seaborn theme."
      ]
    },
    {
      "cell_type": "code",
      "metadata": {
        "id": "ylCqUNSW-6wh",
        "colab_type": "code",
        "colab": {
          "base_uri": "https://localhost:8080/",
          "height": 51
        },
        "outputId": "6d831611-53fa-4014-c659-979d390fea23"
      },
      "source": [
        "import matplotlib.pyplot as plt\n",
        "import seaborn as sn\n",
        "\n",
        "%matplotlib inline\n",
        "sn.set()"
      ],
      "execution_count": null,
      "outputs": [
        {
          "output_type": "stream",
          "text": [
            "/usr/local/lib/python3.6/dist-packages/statsmodels/tools/_testing.py:19: FutureWarning: pandas.util.testing is deprecated. Use the functions in the public API at pandas.testing instead.\n",
            "  import pandas.util.testing as tm\n"
          ],
          "name": "stderr"
        }
      ]
    },
    {
      "cell_type": "markdown",
      "metadata": {
        "id": "2P_dTv32-6wi",
        "colab_type": "text"
      },
      "source": [
        "### Countplots\n",
        "Show counts of each unique value in a column"
      ]
    },
    {
      "cell_type": "code",
      "metadata": {
        "id": "njKIW_Dq-6wj",
        "colab_type": "code",
        "colab": {
          "base_uri": "https://localhost:8080/",
          "height": 402
        },
        "outputId": "05b08000-93f6-43d0-de00-5dde4a4dab4f"
      },
      "source": [
        "plot = sn.countplot(df['product_name'])\n",
        "plot.set_xticklabels(\n",
        "    plot.get_xticklabels(),\n",
        "    rotation=45,\n",
        "    horizontalalignment='right'\n",
        ")\n",
        "plt.show()"
      ],
      "execution_count": null,
      "outputs": [
        {
          "output_type": "display_data",
          "data": {
            "image/png": "[encoded data removed]",
            "text/plain": [
              "<Figure size 432x288 with 1 Axes>"
            ]
          },
          "metadata": {
            "tags": []
          }
        }
      ]
    },
    {
      "cell_type": "markdown",
      "metadata": {
        "id": "P8ILD0VA-6wl",
        "colab_type": "text"
      },
      "source": [
        "### Histograms\n",
        "Draw histograms for all the numerical columns in a DataFrame."
      ]
    },
    {
      "cell_type": "code",
      "metadata": {
        "id": "-zBmtfZI-6wl",
        "colab_type": "code",
        "colab": {
          "base_uri": "https://localhost:8080/",
          "height": 393
        },
        "outputId": "bef277d2-26c9-4960-d96a-eccafdaed0b1"
      },
      "source": [
        "df[['price_per_unit', 'quantity', 'amount']].hist(bins=50, figsize=(9, 6))\n",
        "plt.show()"
      ],
      "execution_count": null,
      "outputs": [
        {
          "output_type": "display_data",
          "data": {
            "image/png": "[encoded data removed]",
            "text/plain": [
              "<Figure size 648x432 with 4 Axes>"
            ]
          },
          "metadata": {
            "tags": []
          }
        }
      ]
    },
    {
      "cell_type": "markdown",
      "metadata": {
        "id": "A65mEK6U-6wm",
        "colab_type": "text"
      },
      "source": [
        "### Scatterplots"
      ]
    },
    {
      "cell_type": "code",
      "metadata": {
        "id": "XnzAXei4-6wm",
        "colab_type": "code",
        "colab": {
          "base_uri": "https://localhost:8080/",
          "height": 285
        },
        "outputId": "67d5dc62-6420-4d8f-af7e-34ccbcaa2e38"
      },
      "source": [
        "sn.scatterplot(x='price_per_unit', y='quantity', data=df)\n",
        "plt.show()"
      ],
      "execution_count": null,
      "outputs": [
        {
          "output_type": "display_data",
          "data": {
            "image/png": "[encoded data removed]",
            "text/plain": [
              "<Figure size 432x288 with 1 Axes>"
            ]
          },
          "metadata": {
            "tags": []
          }
        }
      ]
    },
    {
      "cell_type": "code",
      "metadata": {
        "id": "Bm-FII5PJq5g",
        "colab_type": "code",
        "colab": {}
      },
      "source": [
        ""
      ],
      "execution_count": null,
      "outputs": []
    }
  ]
}